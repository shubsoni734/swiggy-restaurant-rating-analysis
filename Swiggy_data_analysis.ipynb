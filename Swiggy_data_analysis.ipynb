{
 "cells": [
  {
   "cell_type": "markdown",
   "id": "0aeed8ba",
   "metadata": {},
   "source": [
    "# Swiggy Online food services in India an     analysis of Rating."
   ]
  },
  {
   "cell_type": "markdown",
   "id": "062e04df",
   "metadata": {},
   "source": [
    "# import pandas and numpy librarysis"
   ]
  },
  {
   "cell_type": "code",
   "execution_count": 1,
   "id": "814db662",
   "metadata": {},
   "outputs": [],
   "source": [
    "import numpy as np\n",
    "import pandas as pd"
   ]
  },
  {
   "cell_type": "markdown",
   "id": "8a670ac2",
   "metadata": {},
   "source": [
    "# Read csv file using pandas librarysis"
   ]
  },
  {
   "cell_type": "code",
   "execution_count": 2,
   "id": "c549dd86",
   "metadata": {},
   "outputs": [],
   "source": [
    "sd=pd.read_csv(\"Swiggy_dataset.csv\")"
   ]
  },
  {
   "cell_type": "markdown",
   "id": "48bef17f",
   "metadata": {},
   "source": [
    "# print read csv fille"
   ]
  },
  {
   "cell_type": "code",
   "execution_count": 3,
   "id": "d1d31bdf",
   "metadata": {},
   "outputs": [
    {
     "data": {
      "text/html": [
       "<div>\n",
       "<style scoped>\n",
       "    .dataframe tbody tr th:only-of-type {\n",
       "        vertical-align: middle;\n",
       "    }\n",
       "\n",
       "    .dataframe tbody tr th {\n",
       "        vertical-align: top;\n",
       "    }\n",
       "\n",
       "    .dataframe thead th {\n",
       "        text-align: right;\n",
       "    }\n",
       "</style>\n",
       "<table border=\"1\" class=\"dataframe\">\n",
       "  <thead>\n",
       "    <tr style=\"text-align: right;\">\n",
       "      <th></th>\n",
       "      <th>Type</th>\n",
       "      <th>ID</th>\n",
       "      <th>Name</th>\n",
       "      <th>UUID</th>\n",
       "      <th>City</th>\n",
       "      <th>Area</th>\n",
       "      <th>Avg Rating</th>\n",
       "      <th>Total Rating String</th>\n",
       "      <th>Cuisines</th>\n",
       "      <th>Cost For Two Persong Strings</th>\n",
       "      <th>Delivery Time</th>\n",
       "      <th>Min Delivery Time</th>\n",
       "      <th>Max Delivery Time</th>\n",
       "      <th>Address</th>\n",
       "      <th>Locality</th>\n",
       "      <th>Unserviceable</th>\n",
       "      <th>Veg</th>\n",
       "    </tr>\n",
       "  </thead>\n",
       "  <tbody>\n",
       "    <tr>\n",
       "      <th>0</th>\n",
       "      <td>F</td>\n",
       "      <td>37933</td>\n",
       "      <td>Faasos - Wraps &amp; Rolls</td>\n",
       "      <td>6fe9caf1-02a7-4e66-83bb-1b4ff296b683</td>\n",
       "      <td>Ahmedabad</td>\n",
       "      <td>Vastrapur</td>\n",
       "      <td>4.2</td>\n",
       "      <td>500+ ratings</td>\n",
       "      <td>['Combo' 'Snacks' 'Beverages' 'Desserts' 'Indi...</td>\n",
       "      <td>₹200 FOR TWO</td>\n",
       "      <td>44</td>\n",
       "      <td>44</td>\n",
       "      <td>44</td>\n",
       "      <td>SHOP NO 2 HOTEL SHAHI PALACE VASTRAPUR LAKE AH...</td>\n",
       "      <td>HOTEL SHAHI PALACE</td>\n",
       "      <td>False</td>\n",
       "      <td>False</td>\n",
       "    </tr>\n",
       "    <tr>\n",
       "      <th>1</th>\n",
       "      <td>F</td>\n",
       "      <td>81814</td>\n",
       "      <td>Burger King</td>\n",
       "      <td>10083576-d32d-4a0e-8a82-3236ef342a19</td>\n",
       "      <td>Ahmedabad</td>\n",
       "      <td>Ellisbridge</td>\n",
       "      <td>4.2</td>\n",
       "      <td>1000+ ratings</td>\n",
       "      <td>['American' 'Fast Food']</td>\n",
       "      <td>₹350 FOR TWO</td>\n",
       "      <td>33</td>\n",
       "      <td>33</td>\n",
       "      <td>33</td>\n",
       "      <td>SHOP # 5 GR FLR THIRD EYE 2PANCHAVATI CIRCLE O...</td>\n",
       "      <td>3rd Eye II Ellis Bridge CG Road</td>\n",
       "      <td>False</td>\n",
       "      <td>False</td>\n",
       "    </tr>\n",
       "    <tr>\n",
       "      <th>2</th>\n",
       "      <td>F</td>\n",
       "      <td>107046</td>\n",
       "      <td>Mahalaxmi Pav Bhaji</td>\n",
       "      <td>fbfe3bfa-03fd-4708-b913-06e2c9ee9639</td>\n",
       "      <td>Ahmedabad</td>\n",
       "      <td>Ellisbridge</td>\n",
       "      <td>4.3</td>\n",
       "      <td>500+ ratings</td>\n",
       "      <td>['North Indian']</td>\n",
       "      <td>₹200 FOR TWO</td>\n",
       "      <td>28</td>\n",
       "      <td>28</td>\n",
       "      <td>28</td>\n",
       "      <td>GF 9/10 Dev complexnear parimal charasta opp. ...</td>\n",
       "      <td>C G Road</td>\n",
       "      <td>False</td>\n",
       "      <td>True</td>\n",
       "    </tr>\n",
       "    <tr>\n",
       "      <th>3</th>\n",
       "      <td>F</td>\n",
       "      <td>328315</td>\n",
       "      <td>HIIT Meals</td>\n",
       "      <td>81ab4019-2445-4aef-aff2-04beccd641d9</td>\n",
       "      <td>Ahmedabad</td>\n",
       "      <td>Vishala</td>\n",
       "      <td>NaN</td>\n",
       "      <td>Too Few Ratings</td>\n",
       "      <td>['Fast Food' 'Combo' 'Snacks' 'North Indian' '...</td>\n",
       "      <td>₹150 FOR TWO</td>\n",
       "      <td>51</td>\n",
       "      <td>51</td>\n",
       "      <td>51</td>\n",
       "      <td>C11 Rajyash Rise Near Vishala Restaurant Vasna...</td>\n",
       "      <td>Vasna</td>\n",
       "      <td>False</td>\n",
       "      <td>False</td>\n",
       "    </tr>\n",
       "    <tr>\n",
       "      <th>4</th>\n",
       "      <td>F</td>\n",
       "      <td>108879</td>\n",
       "      <td>Jay Jalaram Parotha House</td>\n",
       "      <td>994e73e1-7c7c-4ad9-87e7-ecfecd4e36fa</td>\n",
       "      <td>Ahmedabad</td>\n",
       "      <td>Ellisbridge</td>\n",
       "      <td>3.9</td>\n",
       "      <td>100+ ratings</td>\n",
       "      <td>['North Indian']</td>\n",
       "      <td>₹250 FOR TWO</td>\n",
       "      <td>29</td>\n",
       "      <td>29</td>\n",
       "      <td>29</td>\n",
       "      <td>Capital Commercial Centre Near UCO Bank Ashram...</td>\n",
       "      <td>Ashram Road</td>\n",
       "      <td>False</td>\n",
       "      <td>True</td>\n",
       "    </tr>\n",
       "    <tr>\n",
       "      <th>...</th>\n",
       "      <td>...</td>\n",
       "      <td>...</td>\n",
       "      <td>...</td>\n",
       "      <td>...</td>\n",
       "      <td>...</td>\n",
       "      <td>...</td>\n",
       "      <td>...</td>\n",
       "      <td>...</td>\n",
       "      <td>...</td>\n",
       "      <td>...</td>\n",
       "      <td>...</td>\n",
       "      <td>...</td>\n",
       "      <td>...</td>\n",
       "      <td>...</td>\n",
       "      <td>...</td>\n",
       "      <td>...</td>\n",
       "      <td>...</td>\n",
       "    </tr>\n",
       "    <tr>\n",
       "      <th>8684</th>\n",
       "      <td>F</td>\n",
       "      <td>452149</td>\n",
       "      <td>RAJWADU KATHIYAWADI RESTAURANT</td>\n",
       "      <td>0db4b5d1-4db2-44cc-9cec-5042ccba778b</td>\n",
       "      <td>Surat</td>\n",
       "      <td>Adajan</td>\n",
       "      <td>NaN</td>\n",
       "      <td>Too Few Ratings</td>\n",
       "      <td>['Gujarati' 'Indian' 'Fast Food' 'Pizzas' 'Bev...</td>\n",
       "      <td>₹300 FOR TWO</td>\n",
       "      <td>77</td>\n",
       "      <td>77</td>\n",
       "      <td>77</td>\n",
       "      <td>R.S.NO.17 PAIKI G.F. OLPAD ROAD NR. RAJ MARBLE...</td>\n",
       "      <td>Adajan</td>\n",
       "      <td>False</td>\n",
       "      <td>True</td>\n",
       "    </tr>\n",
       "    <tr>\n",
       "      <th>8685</th>\n",
       "      <td>F</td>\n",
       "      <td>411690</td>\n",
       "      <td>Concord Restaurant</td>\n",
       "      <td>6f112782-e1c0-477f-8c5b-3a7011d2dd7d</td>\n",
       "      <td>Surat</td>\n",
       "      <td>Adajan</td>\n",
       "      <td>4.0</td>\n",
       "      <td>100+ ratings</td>\n",
       "      <td>['North Indian']</td>\n",
       "      <td>₹300 FOR TWO</td>\n",
       "      <td>72</td>\n",
       "      <td>72</td>\n",
       "      <td>72</td>\n",
       "      <td>160 TO 1802ND FLOORRAJ  HARMONYUGAT-BHESAN  RO...</td>\n",
       "      <td>Adajan</td>\n",
       "      <td>False</td>\n",
       "      <td>False</td>\n",
       "    </tr>\n",
       "    <tr>\n",
       "      <th>8686</th>\n",
       "      <td>F</td>\n",
       "      <td>409122</td>\n",
       "      <td>5 Hot Chillis Pizza &amp; Mocktail bar</td>\n",
       "      <td>f0be3849-3d95-4ac9-bcd0-14a8501d98d7</td>\n",
       "      <td>Surat</td>\n",
       "      <td>Sarthana</td>\n",
       "      <td>NaN</td>\n",
       "      <td>Too Few Ratings</td>\n",
       "      <td>['Italian' 'Fast Food']</td>\n",
       "      <td>₹200 FOR TWO</td>\n",
       "      <td>70</td>\n",
       "      <td>70</td>\n",
       "      <td>70</td>\n",
       "      <td>SHOP NO 234 ATLANTA MALL SUDAMA CHOWKOPP TULSI...</td>\n",
       "      <td>Sarthana</td>\n",
       "      <td>False</td>\n",
       "      <td>True</td>\n",
       "    </tr>\n",
       "    <tr>\n",
       "      <th>8687</th>\n",
       "      <td>F</td>\n",
       "      <td>438809</td>\n",
       "      <td>SHIVA GARDEN RESTAURANT</td>\n",
       "      <td>6cf08b59-b6e1-4ffe-be07-a895c8816d58</td>\n",
       "      <td>Surat</td>\n",
       "      <td>Sarthana</td>\n",
       "      <td>NaN</td>\n",
       "      <td>Too Few Ratings</td>\n",
       "      <td>['Indian']</td>\n",
       "      <td>₹200 FOR TWO</td>\n",
       "      <td>66</td>\n",
       "      <td>66</td>\n",
       "      <td>66</td>\n",
       "      <td>Shiva Garden Restaurant Lajamni Chowk Shanti N...</td>\n",
       "      <td>Sarthana</td>\n",
       "      <td>False</td>\n",
       "      <td>True</td>\n",
       "    </tr>\n",
       "    <tr>\n",
       "      <th>8688</th>\n",
       "      <td>F</td>\n",
       "      <td>425118</td>\n",
       "      <td>Waterbomb pani-puri shop</td>\n",
       "      <td>12fde98a-36df-4bd8-95a8-7a05e1202025</td>\n",
       "      <td>Surat</td>\n",
       "      <td>Sarthana</td>\n",
       "      <td>NaN</td>\n",
       "      <td>Too Few Ratings</td>\n",
       "      <td>['Snacks']</td>\n",
       "      <td>₹155 FOR TWO</td>\n",
       "      <td>67</td>\n",
       "      <td>67</td>\n",
       "      <td>67</td>\n",
       "      <td>12 Ambika pinnacle Lajamni Chowk near savji ko...</td>\n",
       "      <td>Sarthana</td>\n",
       "      <td>False</td>\n",
       "      <td>True</td>\n",
       "    </tr>\n",
       "  </tbody>\n",
       "</table>\n",
       "<p>8689 rows × 17 columns</p>\n",
       "</div>"
      ],
      "text/plain": [
       "     Type      ID                                Name  \\\n",
       "0       F   37933              Faasos - Wraps & Rolls   \n",
       "1       F   81814                         Burger King   \n",
       "2       F  107046                 Mahalaxmi Pav Bhaji   \n",
       "3       F  328315                          HIIT Meals   \n",
       "4       F  108879           Jay Jalaram Parotha House   \n",
       "...   ...     ...                                 ...   \n",
       "8684    F  452149      RAJWADU KATHIYAWADI RESTAURANT   \n",
       "8685    F  411690                  Concord Restaurant   \n",
       "8686    F  409122  5 Hot Chillis Pizza & Mocktail bar   \n",
       "8687    F  438809             SHIVA GARDEN RESTAURANT   \n",
       "8688    F  425118            Waterbomb pani-puri shop   \n",
       "\n",
       "                                      UUID       City         Area  \\\n",
       "0     6fe9caf1-02a7-4e66-83bb-1b4ff296b683  Ahmedabad    Vastrapur   \n",
       "1     10083576-d32d-4a0e-8a82-3236ef342a19  Ahmedabad  Ellisbridge   \n",
       "2     fbfe3bfa-03fd-4708-b913-06e2c9ee9639  Ahmedabad  Ellisbridge   \n",
       "3     81ab4019-2445-4aef-aff2-04beccd641d9  Ahmedabad      Vishala   \n",
       "4     994e73e1-7c7c-4ad9-87e7-ecfecd4e36fa  Ahmedabad  Ellisbridge   \n",
       "...                                    ...        ...          ...   \n",
       "8684  0db4b5d1-4db2-44cc-9cec-5042ccba778b      Surat       Adajan   \n",
       "8685  6f112782-e1c0-477f-8c5b-3a7011d2dd7d      Surat       Adajan   \n",
       "8686  f0be3849-3d95-4ac9-bcd0-14a8501d98d7      Surat     Sarthana   \n",
       "8687  6cf08b59-b6e1-4ffe-be07-a895c8816d58      Surat     Sarthana   \n",
       "8688  12fde98a-36df-4bd8-95a8-7a05e1202025      Surat     Sarthana   \n",
       "\n",
       "      Avg Rating Total Rating String  \\\n",
       "0            4.2        500+ ratings   \n",
       "1            4.2       1000+ ratings   \n",
       "2            4.3        500+ ratings   \n",
       "3            NaN     Too Few Ratings   \n",
       "4            3.9        100+ ratings   \n",
       "...          ...                 ...   \n",
       "8684         NaN     Too Few Ratings   \n",
       "8685         4.0        100+ ratings   \n",
       "8686         NaN     Too Few Ratings   \n",
       "8687         NaN     Too Few Ratings   \n",
       "8688         NaN     Too Few Ratings   \n",
       "\n",
       "                                               Cuisines  \\\n",
       "0     ['Combo' 'Snacks' 'Beverages' 'Desserts' 'Indi...   \n",
       "1                              ['American' 'Fast Food']   \n",
       "2                                      ['North Indian']   \n",
       "3     ['Fast Food' 'Combo' 'Snacks' 'North Indian' '...   \n",
       "4                                      ['North Indian']   \n",
       "...                                                 ...   \n",
       "8684  ['Gujarati' 'Indian' 'Fast Food' 'Pizzas' 'Bev...   \n",
       "8685                                   ['North Indian']   \n",
       "8686                            ['Italian' 'Fast Food']   \n",
       "8687                                         ['Indian']   \n",
       "8688                                         ['Snacks']   \n",
       "\n",
       "     Cost For Two Persong Strings   Delivery Time  Min Delivery Time  \\\n",
       "0                    ₹200 FOR TWO              44                 44   \n",
       "1                    ₹350 FOR TWO              33                 33   \n",
       "2                    ₹200 FOR TWO              28                 28   \n",
       "3                    ₹150 FOR TWO              51                 51   \n",
       "4                    ₹250 FOR TWO              29                 29   \n",
       "...                            ...            ...                ...   \n",
       "8684                 ₹300 FOR TWO              77                 77   \n",
       "8685                 ₹300 FOR TWO              72                 72   \n",
       "8686                 ₹200 FOR TWO              70                 70   \n",
       "8687                 ₹200 FOR TWO              66                 66   \n",
       "8688                 ₹155 FOR TWO              67                 67   \n",
       "\n",
       "      Max Delivery Time                                            Address  \\\n",
       "0                    44  SHOP NO 2 HOTEL SHAHI PALACE VASTRAPUR LAKE AH...   \n",
       "1                    33  SHOP # 5 GR FLR THIRD EYE 2PANCHAVATI CIRCLE O...   \n",
       "2                    28  GF 9/10 Dev complexnear parimal charasta opp. ...   \n",
       "3                    51  C11 Rajyash Rise Near Vishala Restaurant Vasna...   \n",
       "4                    29  Capital Commercial Centre Near UCO Bank Ashram...   \n",
       "...                 ...                                                ...   \n",
       "8684                 77  R.S.NO.17 PAIKI G.F. OLPAD ROAD NR. RAJ MARBLE...   \n",
       "8685                 72  160 TO 1802ND FLOORRAJ  HARMONYUGAT-BHESAN  RO...   \n",
       "8686                 70  SHOP NO 234 ATLANTA MALL SUDAMA CHOWKOPP TULSI...   \n",
       "8687                 66  Shiva Garden Restaurant Lajamni Chowk Shanti N...   \n",
       "8688                 67  12 Ambika pinnacle Lajamni Chowk near savji ko...   \n",
       "\n",
       "                             Locality Unserviceable    Veg  \n",
       "0                  HOTEL SHAHI PALACE         False  False  \n",
       "1     3rd Eye II Ellis Bridge CG Road         False  False  \n",
       "2                            C G Road         False   True  \n",
       "3                               Vasna         False  False  \n",
       "4                         Ashram Road         False   True  \n",
       "...                               ...           ...    ...  \n",
       "8684                           Adajan         False   True  \n",
       "8685                           Adajan         False  False  \n",
       "8686                         Sarthana         False   True  \n",
       "8687                         Sarthana         False   True  \n",
       "8688                         Sarthana         False   True  \n",
       "\n",
       "[8689 rows x 17 columns]"
      ]
     },
     "execution_count": 3,
     "metadata": {},
     "output_type": "execute_result"
    }
   ],
   "source": [
    "sd"
   ]
  },
  {
   "cell_type": "markdown",
   "id": "52632752",
   "metadata": {},
   "source": [
    "# info about dataset"
   ]
  },
  {
   "cell_type": "code",
   "execution_count": 4,
   "id": "70477eae",
   "metadata": {},
   "outputs": [
    {
     "name": "stdout",
     "output_type": "stream",
     "text": [
      "<class 'pandas.core.frame.DataFrame'>\n",
      "RangeIndex: 8689 entries, 0 to 8688\n",
      "Data columns (total 17 columns):\n",
      " #   Column                         Non-Null Count  Dtype  \n",
      "---  ------                         --------------  -----  \n",
      " 0   Type                           8689 non-null   object \n",
      " 1   ID                             8689 non-null   int64  \n",
      " 2   Name                           8689 non-null   object \n",
      " 3   UUID                           8686 non-null   object \n",
      " 4   City                           8689 non-null   object \n",
      " 5   Area                           8689 non-null   object \n",
      " 6   Avg Rating                     5412 non-null   float64\n",
      " 7   Total Rating String            8689 non-null   object \n",
      " 8   Cuisines                       8689 non-null   object \n",
      " 9   Cost For Two Persong Strings   8689 non-null   object \n",
      " 10  Delivery Time                  8689 non-null   int64  \n",
      " 11  Min Delivery Time              8689 non-null   int64  \n",
      " 12  Max Delivery Time              8689 non-null   int64  \n",
      " 13  Address                        8680 non-null   object \n",
      " 14  Locality                       8681 non-null   object \n",
      " 15  Unserviceable                  8685 non-null   object \n",
      " 16  Veg                            8685 non-null   object \n",
      "dtypes: float64(1), int64(4), object(12)\n",
      "memory usage: 1.1+ MB\n"
     ]
    }
   ],
   "source": [
    "sd.info()"
   ]
  },
  {
   "cell_type": "markdown",
   "id": "1f368392",
   "metadata": {},
   "source": [
    "# Find Null values in dataset"
   ]
  },
  {
   "cell_type": "code",
   "execution_count": 5,
   "id": "6055bf52",
   "metadata": {},
   "outputs": [
    {
     "data": {
      "text/plain": [
       "Type                                0\n",
       "ID                                  0\n",
       "Name                                0\n",
       "UUID                                3\n",
       "City                                0\n",
       "Area                                0\n",
       "Avg Rating                       3277\n",
       "Total Rating String                 0\n",
       "Cuisines                            0\n",
       "Cost For Two Persong Strings        0\n",
       "Delivery Time                       0\n",
       "Min Delivery Time                   0\n",
       "Max Delivery Time                   0\n",
       "Address                             9\n",
       "Locality                            8\n",
       "Unserviceable                       4\n",
       "Veg                                 4\n",
       "dtype: int64"
      ]
     },
     "execution_count": 5,
     "metadata": {},
     "output_type": "execute_result"
    }
   ],
   "source": [
    "sd.isnull().sum()"
   ]
  },
  {
   "cell_type": "markdown",
   "id": "9cc5775c",
   "metadata": {},
   "source": [
    "# create one copy of data"
   ]
  },
  {
   "cell_type": "code",
   "execution_count": 6,
   "id": "005174b5",
   "metadata": {},
   "outputs": [],
   "source": [
    "sd1=sd.copy()\n"
   ]
  },
  {
   "cell_type": "code",
   "execution_count": 7,
   "id": "d89f7560",
   "metadata": {},
   "outputs": [
    {
     "data": {
      "text/html": [
       "<div>\n",
       "<style scoped>\n",
       "    .dataframe tbody tr th:only-of-type {\n",
       "        vertical-align: middle;\n",
       "    }\n",
       "\n",
       "    .dataframe tbody tr th {\n",
       "        vertical-align: top;\n",
       "    }\n",
       "\n",
       "    .dataframe thead th {\n",
       "        text-align: right;\n",
       "    }\n",
       "</style>\n",
       "<table border=\"1\" class=\"dataframe\">\n",
       "  <thead>\n",
       "    <tr style=\"text-align: right;\">\n",
       "      <th></th>\n",
       "      <th>Type</th>\n",
       "      <th>ID</th>\n",
       "      <th>Name</th>\n",
       "      <th>UUID</th>\n",
       "      <th>City</th>\n",
       "      <th>Area</th>\n",
       "      <th>Avg Rating</th>\n",
       "      <th>Total Rating String</th>\n",
       "      <th>Cuisines</th>\n",
       "      <th>Cost For Two Persong Strings</th>\n",
       "      <th>Delivery Time</th>\n",
       "      <th>Min Delivery Time</th>\n",
       "      <th>Max Delivery Time</th>\n",
       "      <th>Address</th>\n",
       "      <th>Locality</th>\n",
       "      <th>Unserviceable</th>\n",
       "      <th>Veg</th>\n",
       "    </tr>\n",
       "  </thead>\n",
       "  <tbody>\n",
       "    <tr>\n",
       "      <th>0</th>\n",
       "      <td>F</td>\n",
       "      <td>37933</td>\n",
       "      <td>Faasos - Wraps &amp; Rolls</td>\n",
       "      <td>6fe9caf1-02a7-4e66-83bb-1b4ff296b683</td>\n",
       "      <td>Ahmedabad</td>\n",
       "      <td>Vastrapur</td>\n",
       "      <td>4.2</td>\n",
       "      <td>500+ ratings</td>\n",
       "      <td>['Combo' 'Snacks' 'Beverages' 'Desserts' 'Indi...</td>\n",
       "      <td>₹200 FOR TWO</td>\n",
       "      <td>44</td>\n",
       "      <td>44</td>\n",
       "      <td>44</td>\n",
       "      <td>SHOP NO 2 HOTEL SHAHI PALACE VASTRAPUR LAKE AH...</td>\n",
       "      <td>HOTEL SHAHI PALACE</td>\n",
       "      <td>False</td>\n",
       "      <td>False</td>\n",
       "    </tr>\n",
       "    <tr>\n",
       "      <th>1</th>\n",
       "      <td>F</td>\n",
       "      <td>81814</td>\n",
       "      <td>Burger King</td>\n",
       "      <td>10083576-d32d-4a0e-8a82-3236ef342a19</td>\n",
       "      <td>Ahmedabad</td>\n",
       "      <td>Ellisbridge</td>\n",
       "      <td>4.2</td>\n",
       "      <td>1000+ ratings</td>\n",
       "      <td>['American' 'Fast Food']</td>\n",
       "      <td>₹350 FOR TWO</td>\n",
       "      <td>33</td>\n",
       "      <td>33</td>\n",
       "      <td>33</td>\n",
       "      <td>SHOP # 5 GR FLR THIRD EYE 2PANCHAVATI CIRCLE O...</td>\n",
       "      <td>3rd Eye II Ellis Bridge CG Road</td>\n",
       "      <td>False</td>\n",
       "      <td>False</td>\n",
       "    </tr>\n",
       "    <tr>\n",
       "      <th>2</th>\n",
       "      <td>F</td>\n",
       "      <td>107046</td>\n",
       "      <td>Mahalaxmi Pav Bhaji</td>\n",
       "      <td>fbfe3bfa-03fd-4708-b913-06e2c9ee9639</td>\n",
       "      <td>Ahmedabad</td>\n",
       "      <td>Ellisbridge</td>\n",
       "      <td>4.3</td>\n",
       "      <td>500+ ratings</td>\n",
       "      <td>['North Indian']</td>\n",
       "      <td>₹200 FOR TWO</td>\n",
       "      <td>28</td>\n",
       "      <td>28</td>\n",
       "      <td>28</td>\n",
       "      <td>GF 9/10 Dev complexnear parimal charasta opp. ...</td>\n",
       "      <td>C G Road</td>\n",
       "      <td>False</td>\n",
       "      <td>True</td>\n",
       "    </tr>\n",
       "    <tr>\n",
       "      <th>3</th>\n",
       "      <td>F</td>\n",
       "      <td>328315</td>\n",
       "      <td>HIIT Meals</td>\n",
       "      <td>81ab4019-2445-4aef-aff2-04beccd641d9</td>\n",
       "      <td>Ahmedabad</td>\n",
       "      <td>Vishala</td>\n",
       "      <td>NaN</td>\n",
       "      <td>Too Few Ratings</td>\n",
       "      <td>['Fast Food' 'Combo' 'Snacks' 'North Indian' '...</td>\n",
       "      <td>₹150 FOR TWO</td>\n",
       "      <td>51</td>\n",
       "      <td>51</td>\n",
       "      <td>51</td>\n",
       "      <td>C11 Rajyash Rise Near Vishala Restaurant Vasna...</td>\n",
       "      <td>Vasna</td>\n",
       "      <td>False</td>\n",
       "      <td>False</td>\n",
       "    </tr>\n",
       "    <tr>\n",
       "      <th>4</th>\n",
       "      <td>F</td>\n",
       "      <td>108879</td>\n",
       "      <td>Jay Jalaram Parotha House</td>\n",
       "      <td>994e73e1-7c7c-4ad9-87e7-ecfecd4e36fa</td>\n",
       "      <td>Ahmedabad</td>\n",
       "      <td>Ellisbridge</td>\n",
       "      <td>3.9</td>\n",
       "      <td>100+ ratings</td>\n",
       "      <td>['North Indian']</td>\n",
       "      <td>₹250 FOR TWO</td>\n",
       "      <td>29</td>\n",
       "      <td>29</td>\n",
       "      <td>29</td>\n",
       "      <td>Capital Commercial Centre Near UCO Bank Ashram...</td>\n",
       "      <td>Ashram Road</td>\n",
       "      <td>False</td>\n",
       "      <td>True</td>\n",
       "    </tr>\n",
       "  </tbody>\n",
       "</table>\n",
       "</div>"
      ],
      "text/plain": [
       "  Type      ID                       Name  \\\n",
       "0    F   37933     Faasos - Wraps & Rolls   \n",
       "1    F   81814                Burger King   \n",
       "2    F  107046        Mahalaxmi Pav Bhaji   \n",
       "3    F  328315                 HIIT Meals   \n",
       "4    F  108879  Jay Jalaram Parotha House   \n",
       "\n",
       "                                   UUID       City         Area  Avg Rating  \\\n",
       "0  6fe9caf1-02a7-4e66-83bb-1b4ff296b683  Ahmedabad    Vastrapur         4.2   \n",
       "1  10083576-d32d-4a0e-8a82-3236ef342a19  Ahmedabad  Ellisbridge         4.2   \n",
       "2  fbfe3bfa-03fd-4708-b913-06e2c9ee9639  Ahmedabad  Ellisbridge         4.3   \n",
       "3  81ab4019-2445-4aef-aff2-04beccd641d9  Ahmedabad      Vishala         NaN   \n",
       "4  994e73e1-7c7c-4ad9-87e7-ecfecd4e36fa  Ahmedabad  Ellisbridge         3.9   \n",
       "\n",
       "  Total Rating String                                           Cuisines  \\\n",
       "0        500+ ratings  ['Combo' 'Snacks' 'Beverages' 'Desserts' 'Indi...   \n",
       "1       1000+ ratings                           ['American' 'Fast Food']   \n",
       "2        500+ ratings                                   ['North Indian']   \n",
       "3     Too Few Ratings  ['Fast Food' 'Combo' 'Snacks' 'North Indian' '...   \n",
       "4        100+ ratings                                   ['North Indian']   \n",
       "\n",
       "  Cost For Two Persong Strings   Delivery Time  Min Delivery Time  \\\n",
       "0                 ₹200 FOR TWO              44                 44   \n",
       "1                 ₹350 FOR TWO              33                 33   \n",
       "2                 ₹200 FOR TWO              28                 28   \n",
       "3                 ₹150 FOR TWO              51                 51   \n",
       "4                 ₹250 FOR TWO              29                 29   \n",
       "\n",
       "   Max Delivery Time                                            Address  \\\n",
       "0                 44  SHOP NO 2 HOTEL SHAHI PALACE VASTRAPUR LAKE AH...   \n",
       "1                 33  SHOP # 5 GR FLR THIRD EYE 2PANCHAVATI CIRCLE O...   \n",
       "2                 28  GF 9/10 Dev complexnear parimal charasta opp. ...   \n",
       "3                 51  C11 Rajyash Rise Near Vishala Restaurant Vasna...   \n",
       "4                 29  Capital Commercial Centre Near UCO Bank Ashram...   \n",
       "\n",
       "                          Locality Unserviceable    Veg  \n",
       "0               HOTEL SHAHI PALACE         False  False  \n",
       "1  3rd Eye II Ellis Bridge CG Road         False  False  \n",
       "2                         C G Road         False   True  \n",
       "3                            Vasna         False  False  \n",
       "4                      Ashram Road         False   True  "
      ]
     },
     "execution_count": 7,
     "metadata": {},
     "output_type": "execute_result"
    }
   ],
   "source": [
    "sd1.head()"
   ]
  },
  {
   "cell_type": "markdown",
   "id": "37ce838c",
   "metadata": {},
   "source": [
    "# see all tables data type"
   ]
  },
  {
   "cell_type": "code",
   "execution_count": 8,
   "id": "95690afc",
   "metadata": {},
   "outputs": [
    {
     "data": {
      "text/plain": [
       "Type                              object\n",
       "ID                                 int64\n",
       "Name                              object\n",
       "UUID                              object\n",
       "City                              object\n",
       "Area                              object\n",
       "Avg Rating                       float64\n",
       "Total Rating String               object\n",
       "Cuisines                          object\n",
       "Cost For Two Persong Strings      object\n",
       "Delivery Time                      int64\n",
       "Min Delivery Time                  int64\n",
       "Max Delivery Time                  int64\n",
       "Address                           object\n",
       "Locality                          object\n",
       "Unserviceable                     object\n",
       "Veg                               object\n",
       "dtype: object"
      ]
     },
     "execution_count": 8,
     "metadata": {},
     "output_type": "execute_result"
    }
   ],
   "source": [
    "sd1.dtypes"
   ]
  },
  {
   "cell_type": "code",
   "execution_count": 9,
   "id": "b16b83ac",
   "metadata": {},
   "outputs": [
    {
     "data": {
      "text/plain": [
       "F    8665\n",
       "D      14\n",
       "C       9\n",
       "P       1\n",
       "Name: Type, dtype: int64"
      ]
     },
     "execution_count": 9,
     "metadata": {},
     "output_type": "execute_result"
    }
   ],
   "source": [
    "sd1['Type'].isnull().sum()\n",
    "sd1['Type'].value_counts()"
   ]
  },
  {
   "cell_type": "code",
   "execution_count": null,
   "id": "f1066179",
   "metadata": {},
   "outputs": [],
   "source": []
  },
  {
   "cell_type": "code",
   "execution_count": 10,
   "id": "f6816cd7",
   "metadata": {},
   "outputs": [
    {
     "data": {
      "text/plain": [
       "244816.4665669237"
      ]
     },
     "execution_count": 10,
     "metadata": {},
     "output_type": "execute_result"
    }
   ],
   "source": [
    "sd1['ID'].unique()\n",
    "sd1['ID'].mean()"
   ]
  },
  {
   "cell_type": "code",
   "execution_count": 11,
   "id": "909bf7ea",
   "metadata": {},
   "outputs": [
    {
     "data": {
      "text/plain": [
       "0"
      ]
     },
     "execution_count": 11,
     "metadata": {},
     "output_type": "execute_result"
    }
   ],
   "source": [
    "sd1['ID'].fillna(sd1['ID'].value_counts().index[0],inplace=True)\n",
    "sd1['ID'].isnull().sum()"
   ]
  },
  {
   "cell_type": "code",
   "execution_count": 12,
   "id": "3b4fdd81",
   "metadata": {},
   "outputs": [
    {
     "data": {
      "text/plain": [
       "Type                              object\n",
       "ID                                 int64\n",
       "Name                              object\n",
       "UUID                              object\n",
       "City                              object\n",
       "Area                              object\n",
       "Avg Rating                       float64\n",
       "Total Rating String               object\n",
       "Cuisines                          object\n",
       "Cost For Two Persong Strings      object\n",
       "Delivery Time                      int64\n",
       "Min Delivery Time                  int64\n",
       "Max Delivery Time                  int64\n",
       "Address                           object\n",
       "Locality                          object\n",
       "Unserviceable                     object\n",
       "Veg                               object\n",
       "dtype: object"
      ]
     },
     "execution_count": 12,
     "metadata": {},
     "output_type": "execute_result"
    }
   ],
   "source": [
    "sd1.dtypes"
   ]
  },
  {
   "cell_type": "code",
   "execution_count": 13,
   "id": "ae15bb16",
   "metadata": {},
   "outputs": [
    {
     "data": {
      "text/plain": [
       "5400"
      ]
     },
     "execution_count": 13,
     "metadata": {},
     "output_type": "execute_result"
    }
   ],
   "source": [
    "sd1.value_counts().sum()"
   ]
  },
  {
   "cell_type": "code",
   "execution_count": 14,
   "id": "c3195817",
   "metadata": {},
   "outputs": [
    {
     "data": {
      "text/plain": [
       "Type                                0\n",
       "ID                                  0\n",
       "Name                                0\n",
       "UUID                                3\n",
       "City                                0\n",
       "Area                                0\n",
       "Avg Rating                       3277\n",
       "Total Rating String                 0\n",
       "Cuisines                            0\n",
       "Cost For Two Persong Strings        0\n",
       "Delivery Time                       0\n",
       "Min Delivery Time                   0\n",
       "Max Delivery Time                   0\n",
       "Address                             9\n",
       "Locality                            8\n",
       "Unserviceable                       4\n",
       "Veg                                 4\n",
       "dtype: int64"
      ]
     },
     "execution_count": 14,
     "metadata": {},
     "output_type": "execute_result"
    }
   ],
   "source": [
    "sd1.isnull().sum()"
   ]
  },
  {
   "cell_type": "code",
   "execution_count": 15,
   "id": "c5f69308",
   "metadata": {},
   "outputs": [
    {
     "data": {
      "text/plain": [
       "0"
      ]
     },
     "execution_count": 15,
     "metadata": {},
     "output_type": "execute_result"
    }
   ],
   "source": [
    "sd1['Name'].isnull().sum()"
   ]
  },
  {
   "cell_type": "code",
   "execution_count": 16,
   "id": "80cd2956",
   "metadata": {},
   "outputs": [
    {
     "data": {
      "text/plain": [
       "3"
      ]
     },
     "execution_count": 16,
     "metadata": {},
     "output_type": "execute_result"
    }
   ],
   "source": [
    "sd1['UUID'].isnull().sum()\n"
   ]
  },
  {
   "cell_type": "code",
   "execution_count": 17,
   "id": "b1d04803",
   "metadata": {},
   "outputs": [
    {
     "name": "stdout",
     "output_type": "stream",
     "text": [
      "<class 'pandas.core.frame.DataFrame'>\n",
      "RangeIndex: 8689 entries, 0 to 8688\n",
      "Data columns (total 17 columns):\n",
      " #   Column                         Non-Null Count  Dtype  \n",
      "---  ------                         --------------  -----  \n",
      " 0   Type                           8689 non-null   object \n",
      " 1   ID                             8689 non-null   int64  \n",
      " 2   Name                           8689 non-null   object \n",
      " 3   UUID                           8686 non-null   object \n",
      " 4   City                           8689 non-null   object \n",
      " 5   Area                           8689 non-null   object \n",
      " 6   Avg Rating                     5412 non-null   float64\n",
      " 7   Total Rating String            8689 non-null   object \n",
      " 8   Cuisines                       8689 non-null   object \n",
      " 9   Cost For Two Persong Strings   8689 non-null   object \n",
      " 10  Delivery Time                  8689 non-null   int64  \n",
      " 11  Min Delivery Time              8689 non-null   int64  \n",
      " 12  Max Delivery Time              8689 non-null   int64  \n",
      " 13  Address                        8680 non-null   object \n",
      " 14  Locality                       8681 non-null   object \n",
      " 15  Unserviceable                  8685 non-null   object \n",
      " 16  Veg                            8685 non-null   object \n",
      "dtypes: float64(1), int64(4), object(12)\n",
      "memory usage: 1.1+ MB\n"
     ]
    }
   ],
   "source": [
    "sd1.info()"
   ]
  },
  {
   "cell_type": "code",
   "execution_count": 18,
   "id": "870bb187",
   "metadata": {},
   "outputs": [
    {
     "data": {
      "text/plain": [
       "5400"
      ]
     },
     "execution_count": 18,
     "metadata": {},
     "output_type": "execute_result"
    }
   ],
   "source": [
    "sd1.value_counts().sum()"
   ]
  },
  {
   "cell_type": "code",
   "execution_count": 19,
   "id": "8eff00a2",
   "metadata": {},
   "outputs": [
    {
     "data": {
      "text/plain": [
       "Type                                0\n",
       "ID                                  0\n",
       "Name                                0\n",
       "UUID                                3\n",
       "City                                0\n",
       "Area                                0\n",
       "Avg Rating                       3277\n",
       "Total Rating String                 0\n",
       "Cuisines                            0\n",
       "Cost For Two Persong Strings        0\n",
       "Delivery Time                       0\n",
       "Min Delivery Time                   0\n",
       "Max Delivery Time                   0\n",
       "Address                             9\n",
       "Locality                            8\n",
       "Unserviceable                       4\n",
       "Veg                                 4\n",
       "dtype: int64"
      ]
     },
     "execution_count": 19,
     "metadata": {},
     "output_type": "execute_result"
    }
   ],
   "source": [
    "sd1.isnull().sum()"
   ]
  },
  {
   "cell_type": "markdown",
   "id": "a6693785",
   "metadata": {},
   "source": [
    "# check value is null or not"
   ]
  },
  {
   "cell_type": "code",
   "execution_count": 20,
   "id": "69038009",
   "metadata": {},
   "outputs": [
    {
     "data": {
      "text/plain": [
       "3277"
      ]
     },
     "execution_count": 20,
     "metadata": {},
     "output_type": "execute_result"
    }
   ],
   "source": [
    "sd1['Avg Rating'].isnull().sum()"
   ]
  },
  {
   "cell_type": "markdown",
   "id": "e70a36a4",
   "metadata": {},
   "source": [
    "# finding average rating from old reating"
   ]
  },
  {
   "cell_type": "code",
   "execution_count": 21,
   "id": "b30d98c7",
   "metadata": {},
   "outputs": [
    {
     "data": {
      "text/plain": [
       "4.11239837398375"
      ]
     },
     "execution_count": 21,
     "metadata": {},
     "output_type": "execute_result"
    }
   ],
   "source": [
    "sd1['Avg Rating'].mean()"
   ]
  },
  {
   "cell_type": "markdown",
   "id": "a4b2dfe2",
   "metadata": {},
   "source": [
    "# fill average reating in null fields"
   ]
  },
  {
   "cell_type": "code",
   "execution_count": 22,
   "id": "41d7bcf5",
   "metadata": {},
   "outputs": [],
   "source": [
    "sd1['Avg Rating'].fillna(sd1['Avg Rating'].value_counts().index[0],inplace=True)"
   ]
  },
  {
   "cell_type": "code",
   "execution_count": 23,
   "id": "49cd27ca",
   "metadata": {},
   "outputs": [
    {
     "name": "stdout",
     "output_type": "stream",
     "text": [
      "<class 'pandas.core.frame.DataFrame'>\n",
      "RangeIndex: 8689 entries, 0 to 8688\n",
      "Data columns (total 17 columns):\n",
      " #   Column                         Non-Null Count  Dtype  \n",
      "---  ------                         --------------  -----  \n",
      " 0   Type                           8689 non-null   object \n",
      " 1   ID                             8689 non-null   int64  \n",
      " 2   Name                           8689 non-null   object \n",
      " 3   UUID                           8686 non-null   object \n",
      " 4   City                           8689 non-null   object \n",
      " 5   Area                           8689 non-null   object \n",
      " 6   Avg Rating                     8689 non-null   float64\n",
      " 7   Total Rating String            8689 non-null   object \n",
      " 8   Cuisines                       8689 non-null   object \n",
      " 9   Cost For Two Persong Strings   8689 non-null   object \n",
      " 10  Delivery Time                  8689 non-null   int64  \n",
      " 11  Min Delivery Time              8689 non-null   int64  \n",
      " 12  Max Delivery Time              8689 non-null   int64  \n",
      " 13  Address                        8680 non-null   object \n",
      " 14  Locality                       8681 non-null   object \n",
      " 15  Unserviceable                  8685 non-null   object \n",
      " 16  Veg                            8685 non-null   object \n",
      "dtypes: float64(1), int64(4), object(12)\n",
      "memory usage: 1.1+ MB\n"
     ]
    }
   ],
   "source": [
    "sd1.info()"
   ]
  },
  {
   "cell_type": "code",
   "execution_count": 24,
   "id": "ba9e65c2",
   "metadata": {},
   "outputs": [
    {
     "data": {
      "text/plain": [
       "Type                             0\n",
       "ID                               0\n",
       "Name                             0\n",
       "UUID                             3\n",
       "City                             0\n",
       "Area                             0\n",
       "Avg Rating                       0\n",
       "Total Rating String              0\n",
       "Cuisines                         0\n",
       "Cost For Two Persong Strings     0\n",
       "Delivery Time                    0\n",
       "Min Delivery Time                0\n",
       "Max Delivery Time                0\n",
       "Address                          9\n",
       "Locality                         8\n",
       "Unserviceable                    4\n",
       "Veg                              4\n",
       "dtype: int64"
      ]
     },
     "execution_count": 24,
     "metadata": {},
     "output_type": "execute_result"
    }
   ],
   "source": [
    "sd1.isnull().sum()"
   ]
  },
  {
   "cell_type": "markdown",
   "id": "be5bcd7e",
   "metadata": {},
   "source": [
    "# drop address column because this is not use"
   ]
  },
  {
   "cell_type": "code",
   "execution_count": 25,
   "id": "8a07fd75",
   "metadata": {},
   "outputs": [],
   "source": [
    "sd1['Address'].dropna(inplace=True)"
   ]
  },
  {
   "cell_type": "code",
   "execution_count": 26,
   "id": "f5918ec7",
   "metadata": {},
   "outputs": [
    {
     "data": {
      "text/plain": [
       "Type                             0\n",
       "ID                               0\n",
       "Name                             0\n",
       "UUID                             3\n",
       "City                             0\n",
       "Area                             0\n",
       "Avg Rating                       0\n",
       "Total Rating String              0\n",
       "Cuisines                         0\n",
       "Cost For Two Persong Strings     0\n",
       "Delivery Time                    0\n",
       "Min Delivery Time                0\n",
       "Max Delivery Time                0\n",
       "Address                          9\n",
       "Locality                         8\n",
       "Unserviceable                    4\n",
       "Veg                              4\n",
       "dtype: int64"
      ]
     },
     "execution_count": 26,
     "metadata": {},
     "output_type": "execute_result"
    }
   ],
   "source": [
    "sd1.isnull().sum()"
   ]
  },
  {
   "cell_type": "code",
   "execution_count": 27,
   "id": "0f91d7be",
   "metadata": {},
   "outputs": [
    {
     "name": "stdout",
     "output_type": "stream",
     "text": [
      "<class 'pandas.core.frame.DataFrame'>\n",
      "RangeIndex: 8689 entries, 0 to 8688\n",
      "Data columns (total 17 columns):\n",
      " #   Column                         Non-Null Count  Dtype  \n",
      "---  ------                         --------------  -----  \n",
      " 0   Type                           8689 non-null   object \n",
      " 1   ID                             8689 non-null   int64  \n",
      " 2   Name                           8689 non-null   object \n",
      " 3   UUID                           8686 non-null   object \n",
      " 4   City                           8689 non-null   object \n",
      " 5   Area                           8689 non-null   object \n",
      " 6   Avg Rating                     8689 non-null   float64\n",
      " 7   Total Rating String            8689 non-null   object \n",
      " 8   Cuisines                       8689 non-null   object \n",
      " 9   Cost For Two Persong Strings   8689 non-null   object \n",
      " 10  Delivery Time                  8689 non-null   int64  \n",
      " 11  Min Delivery Time              8689 non-null   int64  \n",
      " 12  Max Delivery Time              8689 non-null   int64  \n",
      " 13  Address                        8680 non-null   object \n",
      " 14  Locality                       8681 non-null   object \n",
      " 15  Unserviceable                  8685 non-null   object \n",
      " 16  Veg                            8685 non-null   object \n",
      "dtypes: float64(1), int64(4), object(12)\n",
      "memory usage: 1.1+ MB\n"
     ]
    }
   ],
   "source": [
    "sd1.info()"
   ]
  },
  {
   "cell_type": "markdown",
   "id": "78caf714",
   "metadata": {},
   "source": [
    "# check in which city have much reataurant"
   ]
  },
  {
   "cell_type": "code",
   "execution_count": 28,
   "id": "559a56f6",
   "metadata": {},
   "outputs": [
    {
     "data": {
      "text/plain": [
       "<AxesSubplot:ylabel='City'>"
      ]
     },
     "execution_count": 28,
     "metadata": {},
     "output_type": "execute_result"
    },
    {
     "data": {
      "image/png": "[encoded data removed]",
      "text/plain": [
       "<Figure size 432x288 with 1 Axes>"
      ]
     },
     "metadata": {},
     "output_type": "display_data"
    }
   ],
   "source": [
    "#highest restorent register in data sets\n",
    "sd1['City'].value_counts().plot.pie()"
   ]
  },
  {
   "cell_type": "markdown",
   "id": "7883d4cd",
   "metadata": {},
   "source": [
    "# count number of restaurant in each city"
   ]
  },
  {
   "cell_type": "code",
   "execution_count": 29,
   "id": "51f58d2d",
   "metadata": {},
   "outputs": [
    {
     "data": {
      "text/plain": [
       "Kolkata      1347\n",
       "Mumbai       1278\n",
       "Chennai      1106\n",
       "Pune         1093\n",
       "Hyderabad    1075\n",
       "Bangalore     946\n",
       "Ahmedabad     719\n",
       "Delhi         612\n",
       "Surat         513\n",
       "Name: City, dtype: int64"
      ]
     },
     "execution_count": 29,
     "metadata": {},
     "output_type": "execute_result"
    }
   ],
   "source": [
    "Rac=sd1['City'].value_counts()\n",
    "Rac"
   ]
  },
  {
   "cell_type": "code",
   "execution_count": 72,
   "id": "206b84a6",
   "metadata": {},
   "outputs": [
    {
     "data": {
      "text/plain": [
       "<AxesSubplot:ylabel='Veg'>"
      ]
     },
     "execution_count": 72,
     "metadata": {},
     "output_type": "execute_result"
    },
    {
     "data": {
      "image/png": "[encoded data removed]",
      "text/plain": [
       "<Figure size 432x288 with 1 Axes>"
      ]
     },
     "metadata": {},
     "output_type": "display_data"
    }
   ],
   "source": [
    "sd1['Veg'].value_counts().plot.pie()"
   ]
  },
  {
   "cell_type": "markdown",
   "id": "b8da18f2",
   "metadata": {},
   "source": [
    "# top 5 restaurant of Ahmedabad city"
   ]
  },
  {
   "cell_type": "markdown",
   "id": "652dae0c",
   "metadata": {},
   "source": [
    "# large amount order recive from which area"
   ]
  },
  {
   "cell_type": "code",
   "execution_count": 31,
   "id": "9d6a9a8e",
   "metadata": {},
   "outputs": [
    {
     "name": "stdout",
     "output_type": "stream",
     "text": [
      "Navrangpura     133\n",
      "Vastrapur        94\n",
      "Ellisbridge      50\n",
      "Maninagar        45\n",
      "Naranpura        30\n",
      "               ... \n",
      "Hatkeshwar        1\n",
      "Bapunagar         1\n",
      "SARKHEJ ROAD      1\n",
      "Ranip             1\n",
      "Dudheshwar        1\n",
      "Name: Area, Length: 82, dtype: int64\n"
     ]
    },
    {
     "data": {
      "text/plain": [
       "<AxesSubplot:ylabel='Frequency'>"
      ]
     },
     "execution_count": 31,
     "metadata": {},
     "output_type": "execute_result"
    },
    {
     "data": {
      "image/png": "[encoded data removed]",
      "text/plain": [
       "<Figure size 432x288 with 1 Axes>"
      ]
     },
     "metadata": {
      "needs_background": "light"
     },
     "output_type": "display_data"
    }
   ],
   "source": [
    "#top ordered on location\n",
    "print(y1['Area'].value_counts())\n",
    "y1['Area'].value_counts().plot.hist()\n",
    "# Much order recive from Navrangpura locality"
   ]
  },
  {
   "cell_type": "markdown",
   "id": "6c1048a7",
   "metadata": {},
   "source": [
    "# veg an non-vag restaurant in Ahmedabad"
   ]
  },
  {
   "cell_type": "code",
   "execution_count": 33,
   "id": "529c3bdb",
   "metadata": {},
   "outputs": [
    {
     "data": {
      "text/plain": [
       "<AxesSubplot:>"
      ]
     },
     "execution_count": 33,
     "metadata": {},
     "output_type": "execute_result"
    },
    {
     "data": {
      "image/png": "[encoded data removed]",
      "text/plain": [
       "<Figure size 432x288 with 1 Axes>"
      ]
     },
     "metadata": {
      "needs_background": "light"
     },
     "output_type": "display_data"
    }
   ],
   "source": [
    "# Which type of restorent is much.\n",
    "y['Veg'].value_counts().plot.bar()\n",
    "#True =Veg , False = Non-veg\n",
    "# Veg Restorent Quantity is high"
   ]
  },
  {
   "cell_type": "code",
   "execution_count": 34,
   "id": "bb5421e9",
   "metadata": {},
   "outputs": [],
   "source": [
    "#y['Veg']=y['Veg'].map({\"True\" : 'veg',\"False\" : 'non-veg'})\n",
    "#y['Veg']=vage"
   ]
  },
  {
   "cell_type": "markdown",
   "id": "8cbfe6ab",
   "metadata": {},
   "source": [
    "# top 5 restaurant of Bangalore city"
   ]
  },
  {
   "cell_type": "code",
   "execution_count": 35,
   "id": "fa264461",
   "metadata": {},
   "outputs": [
    {
     "data": {
      "text/html": [
       "<div>\n",
       "<style scoped>\n",
       "    .dataframe tbody tr th:only-of-type {\n",
       "        vertical-align: middle;\n",
       "    }\n",
       "\n",
       "    .dataframe tbody tr th {\n",
       "        vertical-align: top;\n",
       "    }\n",
       "\n",
       "    .dataframe thead th {\n",
       "        text-align: right;\n",
       "    }\n",
       "</style>\n",
       "<table border=\"1\" class=\"dataframe\">\n",
       "  <thead>\n",
       "    <tr style=\"text-align: right;\">\n",
       "      <th></th>\n",
       "      <th>Type</th>\n",
       "      <th>ID</th>\n",
       "      <th>Name</th>\n",
       "      <th>UUID</th>\n",
       "      <th>City</th>\n",
       "      <th>Area</th>\n",
       "      <th>Avg Rating</th>\n",
       "      <th>Total Rating String</th>\n",
       "      <th>Delivery Time</th>\n",
       "      <th>Address</th>\n",
       "      <th>Locality</th>\n",
       "      <th>Veg</th>\n",
       "    </tr>\n",
       "  </thead>\n",
       "  <tbody>\n",
       "    <tr>\n",
       "      <th>1157</th>\n",
       "      <td>F</td>\n",
       "      <td>446397.0</td>\n",
       "      <td>Tricky Shakes</td>\n",
       "      <td>5f0ddb94-4c4d-484f-8525-9957f68cf284</td>\n",
       "      <td>Bangalore</td>\n",
       "      <td>Koramangala</td>\n",
       "      <td>5.0</td>\n",
       "      <td>20+ ratings</td>\n",
       "      <td>62.0</td>\n",
       "      <td>504 6th Cross Rd 6th Block Koramangala Bengalu...</td>\n",
       "      <td>Koramangala</td>\n",
       "      <td>False</td>\n",
       "    </tr>\n",
       "    <tr>\n",
       "      <th>1301</th>\n",
       "      <td>F</td>\n",
       "      <td>321807.0</td>\n",
       "      <td>CREAMS &amp; BITES</td>\n",
       "      <td>8e396aaa-e00c-4d77-8838-238ee9121d75</td>\n",
       "      <td>Bangalore</td>\n",
       "      <td>Basavanagudi</td>\n",
       "      <td>5.0</td>\n",
       "      <td>20+ ratings</td>\n",
       "      <td>50.0</td>\n",
       "      <td>No. 51 5th Floor Albert Victor Road Royan Circ...</td>\n",
       "      <td>Basavanagudi</td>\n",
       "      <td>True</td>\n",
       "    </tr>\n",
       "    <tr>\n",
       "      <th>959</th>\n",
       "      <td>F</td>\n",
       "      <td>442032.0</td>\n",
       "      <td>Keventers Ice Creamery</td>\n",
       "      <td>da3fd5e1-26d6-4d25-8378-d99f20303d97</td>\n",
       "      <td>Bangalore</td>\n",
       "      <td>Koramangala</td>\n",
       "      <td>4.9</td>\n",
       "      <td>20+ ratings</td>\n",
       "      <td>57.0</td>\n",
       "      <td>New 114 2nd 3rd Floor Municipal 1st 2nd Floor ...</td>\n",
       "      <td>7th Block</td>\n",
       "      <td>True</td>\n",
       "    </tr>\n",
       "    <tr>\n",
       "      <th>1345</th>\n",
       "      <td>F</td>\n",
       "      <td>405127.0</td>\n",
       "      <td>Hokart - Soori Chaats</td>\n",
       "      <td>521364b4-28c6-4f5f-ac10-d3063e7b2c98</td>\n",
       "      <td>Bangalore</td>\n",
       "      <td>Koramangala</td>\n",
       "      <td>4.9</td>\n",
       "      <td>20+ ratings</td>\n",
       "      <td>59.0</td>\n",
       "      <td>Platinum Nilayam 4th Cross Rd KHB Block Korama...</td>\n",
       "      <td>Koramangala</td>\n",
       "      <td>True</td>\n",
       "    </tr>\n",
       "    <tr>\n",
       "      <th>1238</th>\n",
       "      <td>C</td>\n",
       "      <td>123889.0</td>\n",
       "      <td>Frosty Crumble</td>\n",
       "      <td>9a421454-2ffd-483c-b945-6332fb50c5a7</td>\n",
       "      <td>Bangalore</td>\n",
       "      <td>Ashok Nagar</td>\n",
       "      <td>4.9</td>\n",
       "      <td>20+ ratings</td>\n",
       "      <td>36.0</td>\n",
       "      <td>Art of Delight 44/1 Residency Road</td>\n",
       "      <td>Residency Road</td>\n",
       "      <td>False</td>\n",
       "    </tr>\n",
       "  </tbody>\n",
       "</table>\n",
       "</div>"
      ],
      "text/plain": [
       "     Type        ID                    Name  \\\n",
       "1157    F  446397.0           Tricky Shakes   \n",
       "1301    F  321807.0          CREAMS & BITES   \n",
       "959     F  442032.0  Keventers Ice Creamery   \n",
       "1345    F  405127.0   Hokart - Soori Chaats   \n",
       "1238    C  123889.0          Frosty Crumble   \n",
       "\n",
       "                                      UUID       City          Area  \\\n",
       "1157  5f0ddb94-4c4d-484f-8525-9957f68cf284  Bangalore   Koramangala   \n",
       "1301  8e396aaa-e00c-4d77-8838-238ee9121d75  Bangalore  Basavanagudi   \n",
       "959   da3fd5e1-26d6-4d25-8378-d99f20303d97  Bangalore   Koramangala   \n",
       "1345  521364b4-28c6-4f5f-ac10-d3063e7b2c98  Bangalore   Koramangala   \n",
       "1238  9a421454-2ffd-483c-b945-6332fb50c5a7  Bangalore   Ashok Nagar   \n",
       "\n",
       "      Avg Rating Total Rating String  Delivery Time  \\\n",
       "1157         5.0         20+ ratings           62.0   \n",
       "1301         5.0         20+ ratings           50.0   \n",
       "959          4.9         20+ ratings           57.0   \n",
       "1345         4.9         20+ ratings           59.0   \n",
       "1238         4.9         20+ ratings           36.0   \n",
       "\n",
       "                                                Address        Locality    Veg  \n",
       "1157  504 6th Cross Rd 6th Block Koramangala Bengalu...     Koramangala  False  \n",
       "1301  No. 51 5th Floor Albert Victor Road Royan Circ...    Basavanagudi   True  \n",
       "959   New 114 2nd 3rd Floor Municipal 1st 2nd Floor ...       7th Block   True  \n",
       "1345  Platinum Nilayam 4th Cross Rd KHB Block Korama...     Koramangala   True  \n",
       "1238                 Art of Delight 44/1 Residency Road  Residency Road  False  "
      ]
     },
     "execution_count": 35,
     "metadata": {},
     "output_type": "execute_result"
    }
   ],
   "source": [
    "#Top 5 Restorent in Bangalore register on swiggy\n",
    "z=sd1[['Type','ID','Name','UUID','City','Area','Avg Rating','Total Rating String','Delivery Time','Address','Locality','Veg']].where(sd1['City']=='Bangalore')\n",
    "z1= z.sort_values(by=['Avg Rating'],ascending=False)\n",
    "z1.head(5)"
   ]
  },
  {
   "cell_type": "code",
   "execution_count": 36,
   "id": "379e4bfd",
   "metadata": {},
   "outputs": [
    {
     "name": "stdout",
     "output_type": "stream",
     "text": [
      "Indiranagar              130\n",
      "Koramangala              124\n",
      "Ashok Nagar              112\n",
      "Central Bangalore         71\n",
      "Basavanagudi              54\n",
      "                        ... \n",
      "Central Banglore           1\n",
      "Sheshadripuram             1\n",
      "Cambridge layout           1\n",
      "Jayanagar - 3rd Block      1\n",
      "Rt Nagar                   1\n",
      "Name: Area, Length: 80, dtype: int64\n"
     ]
    },
    {
     "data": {
      "text/plain": [
       "<AxesSubplot:>"
      ]
     },
     "execution_count": 36,
     "metadata": {},
     "output_type": "execute_result"
    },
    {
     "data": {
      "image/png": "[encoded data removed]",
      "text/plain": [
       "<Figure size 432x288 with 1 Axes>"
      ]
     },
     "metadata": {
      "needs_background": "light"
     },
     "output_type": "display_data"
    }
   ],
   "source": [
    "print(z1['Area'].value_counts())\n",
    "z1['Area'].value_counts().plot.bar()\n",
    "# Much order recive from Indiranagar locality"
   ]
  },
  {
   "cell_type": "code",
   "execution_count": 67,
   "id": "32eaa843",
   "metadata": {},
   "outputs": [
    {
     "data": {
      "text/plain": [
       "False    721\n",
       "True     225\n",
       "Name: Veg, dtype: int64"
      ]
     },
     "execution_count": 67,
     "metadata": {},
     "output_type": "execute_result"
    }
   ],
   "source": [
    "#count veg and non-veg restorent in Bangalore\n",
    "z['Veg'].value_counts().plot.bar()\n",
    "#True =Veg , False = Non-veg\n",
    "# Non-Veg Restorent Quantity is high"
   ]
  },
  {
   "cell_type": "code",
   "execution_count": 38,
   "id": "23e69a90",
   "metadata": {},
   "outputs": [
    {
     "data": {
      "text/html": [
       "<div>\n",
       "<style scoped>\n",
       "    .dataframe tbody tr th:only-of-type {\n",
       "        vertical-align: middle;\n",
       "    }\n",
       "\n",
       "    .dataframe tbody tr th {\n",
       "        vertical-align: top;\n",
       "    }\n",
       "\n",
       "    .dataframe thead th {\n",
       "        text-align: right;\n",
       "    }\n",
       "</style>\n",
       "<table border=\"1\" class=\"dataframe\">\n",
       "  <thead>\n",
       "    <tr style=\"text-align: right;\">\n",
       "      <th></th>\n",
       "      <th>Type</th>\n",
       "      <th>ID</th>\n",
       "      <th>Name</th>\n",
       "      <th>UUID</th>\n",
       "      <th>City</th>\n",
       "      <th>Area</th>\n",
       "      <th>Avg Rating</th>\n",
       "      <th>Total Rating String</th>\n",
       "      <th>Delivery Time</th>\n",
       "      <th>Address</th>\n",
       "      <th>Locality</th>\n",
       "      <th>Veg</th>\n",
       "    </tr>\n",
       "  </thead>\n",
       "  <tbody>\n",
       "    <tr>\n",
       "      <th>8469</th>\n",
       "      <td>F</td>\n",
       "      <td>120638.0</td>\n",
       "      <td>Sobis Diet Farm</td>\n",
       "      <td>4d9fdb1a-0b9d-48f5-91b0-8199f6c1673e</td>\n",
       "      <td>Surat</td>\n",
       "      <td>Adajan</td>\n",
       "      <td>4.8</td>\n",
       "      <td>50+ ratings</td>\n",
       "      <td>52.0</td>\n",
       "      <td>B-368 Sayied Street Adajan Gam Adajan</td>\n",
       "      <td>Adajan Gam</td>\n",
       "      <td>False</td>\n",
       "    </tr>\n",
       "    <tr>\n",
       "      <th>8596</th>\n",
       "      <td>F</td>\n",
       "      <td>66168.0</td>\n",
       "      <td>The Pancake Story</td>\n",
       "      <td>8a65855f-4868-4f29-b8d8-ff44baddc7b7</td>\n",
       "      <td>Surat</td>\n",
       "      <td>Vesu</td>\n",
       "      <td>4.8</td>\n",
       "      <td>20+ ratings</td>\n",
       "      <td>58.0</td>\n",
       "      <td>G-26 Prime Shoppers Opposite Safal Square Vesu...</td>\n",
       "      <td>Prime Shoppers Vesu</td>\n",
       "      <td>True</td>\n",
       "    </tr>\n",
       "    <tr>\n",
       "      <th>8422</th>\n",
       "      <td>F</td>\n",
       "      <td>389388.0</td>\n",
       "      <td>Kudrati Kahumbo</td>\n",
       "      <td>e8cb5727-308a-4eb4-9368-cceff3ddff82</td>\n",
       "      <td>Surat</td>\n",
       "      <td>Adajan</td>\n",
       "      <td>4.8</td>\n",
       "      <td>50+ ratings</td>\n",
       "      <td>38.0</td>\n",
       "      <td>G-2 SANGINI MAGNUS RANDER ROAD  OPP. RUSHABH T...</td>\n",
       "      <td>Adajan</td>\n",
       "      <td>False</td>\n",
       "    </tr>\n",
       "    <tr>\n",
       "      <th>8663</th>\n",
       "      <td>F</td>\n",
       "      <td>164198.0</td>\n",
       "      <td>Amardeep Icecream &amp; Juices</td>\n",
       "      <td>ad2d553e-5aee-4863-b1b8-0f3818ddf018</td>\n",
       "      <td>Surat</td>\n",
       "      <td>Amroli</td>\n",
       "      <td>4.7</td>\n",
       "      <td>20+ ratings</td>\n",
       "      <td>56.0</td>\n",
       "      <td>WARD NO.61-A G-28 SAMARTH PARK SHOPPING CENTRE...</td>\n",
       "      <td>Amroli</td>\n",
       "      <td>True</td>\n",
       "    </tr>\n",
       "    <tr>\n",
       "      <th>8590</th>\n",
       "      <td>F</td>\n",
       "      <td>374213.0</td>\n",
       "      <td>The Bungalow Cafe</td>\n",
       "      <td>82f21842-5768-4a89-b6cf-28a4d54acdde</td>\n",
       "      <td>Surat</td>\n",
       "      <td>Vesu</td>\n",
       "      <td>4.7</td>\n",
       "      <td>20+ ratings</td>\n",
       "      <td>58.0</td>\n",
       "      <td>SHOP NO C 302 3RD FLOOR AAGAM VIVIANNA OPP PHO...</td>\n",
       "      <td>Piplod</td>\n",
       "      <td>False</td>\n",
       "    </tr>\n",
       "  </tbody>\n",
       "</table>\n",
       "</div>"
      ],
      "text/plain": [
       "     Type        ID                        Name  \\\n",
       "8469    F  120638.0             Sobis Diet Farm   \n",
       "8596    F   66168.0           The Pancake Story   \n",
       "8422    F  389388.0             Kudrati Kahumbo   \n",
       "8663    F  164198.0  Amardeep Icecream & Juices   \n",
       "8590    F  374213.0           The Bungalow Cafe   \n",
       "\n",
       "                                      UUID   City    Area  Avg Rating  \\\n",
       "8469  4d9fdb1a-0b9d-48f5-91b0-8199f6c1673e  Surat  Adajan         4.8   \n",
       "8596  8a65855f-4868-4f29-b8d8-ff44baddc7b7  Surat    Vesu         4.8   \n",
       "8422  e8cb5727-308a-4eb4-9368-cceff3ddff82  Surat  Adajan         4.8   \n",
       "8663  ad2d553e-5aee-4863-b1b8-0f3818ddf018  Surat  Amroli         4.7   \n",
       "8590  82f21842-5768-4a89-b6cf-28a4d54acdde  Surat    Vesu         4.7   \n",
       "\n",
       "     Total Rating String  Delivery Time  \\\n",
       "8469         50+ ratings           52.0   \n",
       "8596         20+ ratings           58.0   \n",
       "8422         50+ ratings           38.0   \n",
       "8663         20+ ratings           56.0   \n",
       "8590         20+ ratings           58.0   \n",
       "\n",
       "                                                Address             Locality  \\\n",
       "8469              B-368 Sayied Street Adajan Gam Adajan           Adajan Gam   \n",
       "8596  G-26 Prime Shoppers Opposite Safal Square Vesu...  Prime Shoppers Vesu   \n",
       "8422  G-2 SANGINI MAGNUS RANDER ROAD  OPP. RUSHABH T...               Adajan   \n",
       "8663  WARD NO.61-A G-28 SAMARTH PARK SHOPPING CENTRE...               Amroli   \n",
       "8590  SHOP NO C 302 3RD FLOOR AAGAM VIVIANNA OPP PHO...               Piplod   \n",
       "\n",
       "        Veg  \n",
       "8469  False  \n",
       "8596   True  \n",
       "8422  False  \n",
       "8663   True  \n",
       "8590  False  "
      ]
     },
     "execution_count": 38,
     "metadata": {},
     "output_type": "execute_result"
    }
   ],
   "source": [
    "#Top 5 Restorent in Surat register on swiggy\n",
    "S=sd1[['Type','ID','Name','UUID','City','Area','Avg Rating','Total Rating String','Delivery Time','Address','Locality','Veg']].where(sd1['City']=='Surat')\n",
    "S1=S.sort_values(by=['Avg Rating'],ascending=False)\n",
    "S1.head(5)"
   ]
  },
  {
   "cell_type": "code",
   "execution_count": 39,
   "id": "f9874890",
   "metadata": {},
   "outputs": [
    {
     "name": "stdout",
     "output_type": "stream",
     "text": [
      "Athwa                         99\n",
      "Adajan                        74\n",
      "Piplod                        64\n",
      "Varachha                      29\n",
      "Vesu                          20\n",
      "                              ..\n",
      "Ashok bhai- Citylight          1\n",
      "SagrampuraAthwa                1\n",
      "Magob                          1\n",
      "Moonlight Cream Sagrampura     1\n",
      "Rustampura                     1\n",
      "Name: Area, Length: 81, dtype: int64\n"
     ]
    },
    {
     "data": {
      "text/plain": [
       "<AxesSubplot:>"
      ]
     },
     "execution_count": 39,
     "metadata": {},
     "output_type": "execute_result"
    },
    {
     "data": {
      "image/png": "[encoded data removed]",
      "text/plain": [
       "<Figure size 432x288 with 1 Axes>"
      ]
     },
     "metadata": {
      "needs_background": "light"
     },
     "output_type": "display_data"
    }
   ],
   "source": [
    "print(S1['Area'].value_counts())\n",
    "S1['Area'].value_counts().plot.bar()"
   ]
  },
  {
   "cell_type": "code",
   "execution_count": 41,
   "id": "9bcfc0d8",
   "metadata": {},
   "outputs": [
    {
     "data": {
      "text/plain": [
       "<AxesSubplot:>"
      ]
     },
     "execution_count": 41,
     "metadata": {},
     "output_type": "execute_result"
    },
    {
     "data": {
      "image/png": "[encoded data removed]",
      "text/plain": [
       "<Figure size 432x288 with 1 Axes>"
      ]
     },
     "metadata": {
      "needs_background": "light"
     },
     "output_type": "display_data"
    }
   ],
   "source": [
    "S1['Veg'].value_counts().plot.bar()\n",
    "#in surat city both veg and Non-veg restorent are equal"
   ]
  },
  {
   "cell_type": "code",
   "execution_count": 42,
   "id": "02871e33",
   "metadata": {},
   "outputs": [
    {
     "data": {
      "text/html": [
       "<div>\n",
       "<style scoped>\n",
       "    .dataframe tbody tr th:only-of-type {\n",
       "        vertical-align: middle;\n",
       "    }\n",
       "\n",
       "    .dataframe tbody tr th {\n",
       "        vertical-align: top;\n",
       "    }\n",
       "\n",
       "    .dataframe thead th {\n",
       "        text-align: right;\n",
       "    }\n",
       "</style>\n",
       "<table border=\"1\" class=\"dataframe\">\n",
       "  <thead>\n",
       "    <tr style=\"text-align: right;\">\n",
       "      <th></th>\n",
       "      <th>Type</th>\n",
       "      <th>ID</th>\n",
       "      <th>Name</th>\n",
       "      <th>UUID</th>\n",
       "      <th>City</th>\n",
       "      <th>Area</th>\n",
       "      <th>Avg Rating</th>\n",
       "      <th>Total Rating String</th>\n",
       "      <th>Delivery Time</th>\n",
       "      <th>Address</th>\n",
       "      <th>Locality</th>\n",
       "      <th>Veg</th>\n",
       "    </tr>\n",
       "  </thead>\n",
       "  <tbody>\n",
       "    <tr>\n",
       "      <th>7144</th>\n",
       "      <td>F</td>\n",
       "      <td>13188.0</td>\n",
       "      <td>Shree Krishna Juice Bar</td>\n",
       "      <td>739ef5a7-2e71-45e0-aa8c-0cb80315b153</td>\n",
       "      <td>Pune</td>\n",
       "      <td>Shivajinagar</td>\n",
       "      <td>5.0</td>\n",
       "      <td>20+ ratings</td>\n",
       "      <td>39.0</td>\n",
       "      <td>Near Naturals Ice Cream Ghole road JM Road Pune</td>\n",
       "      <td>Near Ghole Road</td>\n",
       "      <td>True</td>\n",
       "    </tr>\n",
       "    <tr>\n",
       "      <th>7576</th>\n",
       "      <td>F</td>\n",
       "      <td>438198.0</td>\n",
       "      <td>PAPACREAM</td>\n",
       "      <td>a2458e65-66f0-43e1-a78a-10194687ddb5</td>\n",
       "      <td>Pune</td>\n",
       "      <td>Kothrud</td>\n",
       "      <td>5.0</td>\n",
       "      <td>20+ ratings</td>\n",
       "      <td>52.0</td>\n",
       "      <td>shop no.4 maji sainik vasahatplnono 49 pd rd p...</td>\n",
       "      <td>Kothrud</td>\n",
       "      <td>False</td>\n",
       "    </tr>\n",
       "    <tr>\n",
       "      <th>7183</th>\n",
       "      <td>F</td>\n",
       "      <td>188190.0</td>\n",
       "      <td>Gulp</td>\n",
       "      <td>49ad0a12-af35-44bf-aedb-9cfeaa9ca436</td>\n",
       "      <td>Pune</td>\n",
       "      <td>Shivajinagar</td>\n",
       "      <td>4.9</td>\n",
       "      <td>20+ ratings</td>\n",
       "      <td>37.0</td>\n",
       "      <td>SARC Agrotech Plot No. 567 Sr No. 1202/34 Shir...</td>\n",
       "      <td>Shivaji Nagar</td>\n",
       "      <td>True</td>\n",
       "    </tr>\n",
       "    <tr>\n",
       "      <th>7699</th>\n",
       "      <td>F</td>\n",
       "      <td>43634.0</td>\n",
       "      <td>Rosso Bianco</td>\n",
       "      <td>31bf7157-6e70-4c94-b3e7-cb9df8ccad35</td>\n",
       "      <td>Pune</td>\n",
       "      <td>BOPODI</td>\n",
       "      <td>4.8</td>\n",
       "      <td>20+ ratings</td>\n",
       "      <td>57.0</td>\n",
       "      <td>OFFICE.NO.2JAMNA CHAMBERSSR.NO.5/2AUNDH ROADBO...</td>\n",
       "      <td>Aundh</td>\n",
       "      <td>False</td>\n",
       "    </tr>\n",
       "    <tr>\n",
       "      <th>7362</th>\n",
       "      <td>F</td>\n",
       "      <td>71694.0</td>\n",
       "      <td>The Betel Leaf - Paan and Desserts</td>\n",
       "      <td>2465aa08-11ab-4181-9860-a7580f600dba</td>\n",
       "      <td>Pune</td>\n",
       "      <td>Erandwane</td>\n",
       "      <td>4.8</td>\n",
       "      <td>20+ ratings</td>\n",
       "      <td>45.0</td>\n",
       "      <td>Shop 8 Minal Arcade Building C Near Samudra Ho...</td>\n",
       "      <td>Karve Nagar</td>\n",
       "      <td>True</td>\n",
       "    </tr>\n",
       "  </tbody>\n",
       "</table>\n",
       "</div>"
      ],
      "text/plain": [
       "     Type        ID                                Name  \\\n",
       "7144    F   13188.0             Shree Krishna Juice Bar   \n",
       "7576    F  438198.0                           PAPACREAM   \n",
       "7183    F  188190.0                                Gulp   \n",
       "7699    F   43634.0                        Rosso Bianco   \n",
       "7362    F   71694.0  The Betel Leaf - Paan and Desserts   \n",
       "\n",
       "                                      UUID  City          Area  Avg Rating  \\\n",
       "7144  739ef5a7-2e71-45e0-aa8c-0cb80315b153  Pune  Shivajinagar         5.0   \n",
       "7576  a2458e65-66f0-43e1-a78a-10194687ddb5  Pune       Kothrud         5.0   \n",
       "7183  49ad0a12-af35-44bf-aedb-9cfeaa9ca436  Pune  Shivajinagar         4.9   \n",
       "7699  31bf7157-6e70-4c94-b3e7-cb9df8ccad35  Pune        BOPODI         4.8   \n",
       "7362  2465aa08-11ab-4181-9860-a7580f600dba  Pune     Erandwane         4.8   \n",
       "\n",
       "     Total Rating String  Delivery Time  \\\n",
       "7144         20+ ratings           39.0   \n",
       "7576         20+ ratings           52.0   \n",
       "7183         20+ ratings           37.0   \n",
       "7699         20+ ratings           57.0   \n",
       "7362         20+ ratings           45.0   \n",
       "\n",
       "                                                Address         Locality  \\\n",
       "7144    Near Naturals Ice Cream Ghole road JM Road Pune  Near Ghole Road   \n",
       "7576  shop no.4 maji sainik vasahatplnono 49 pd rd p...          Kothrud   \n",
       "7183  SARC Agrotech Plot No. 567 Sr No. 1202/34 Shir...    Shivaji Nagar   \n",
       "7699  OFFICE.NO.2JAMNA CHAMBERSSR.NO.5/2AUNDH ROADBO...            Aundh   \n",
       "7362  Shop 8 Minal Arcade Building C Near Samudra Ho...      Karve Nagar   \n",
       "\n",
       "        Veg  \n",
       "7144   True  \n",
       "7576  False  \n",
       "7183   True  \n",
       "7699  False  \n",
       "7362   True  "
      ]
     },
     "execution_count": 42,
     "metadata": {},
     "output_type": "execute_result"
    }
   ],
   "source": [
    "#Top 5 Restorent in Pune register on swiggy\n",
    "P=sd1[['Type','ID','Name','UUID','City','Area','Avg Rating','Total Rating String','Delivery Time','Address','Locality','Veg']].where(sd1['City']=='Pune')\n",
    "P1=P.sort_values(by=['Avg Rating'],ascending=False)\n",
    "P1.head()\n"
   ]
  },
  {
   "cell_type": "code",
   "execution_count": 43,
   "id": "a2a3d5c6",
   "metadata": {},
   "outputs": [
    {
     "data": {
      "text/plain": [
       "<AxesSubplot:>"
      ]
     },
     "execution_count": 43,
     "metadata": {},
     "output_type": "execute_result"
    },
    {
     "data": {
      "image/png": "[encoded data removed]",
      "text/plain": [
       "<Figure size 432x288 with 1 Axes>"
      ]
     },
     "metadata": {
      "needs_background": "light"
     },
     "output_type": "display_data"
    }
   ],
   "source": [
    "P['Avg Rating'].value_counts().plot.bar()"
   ]
  },
  {
   "cell_type": "code",
   "execution_count": 44,
   "id": "c6170c2c",
   "metadata": {},
   "outputs": [
    {
     "name": "stdout",
     "output_type": "stream",
     "text": [
      "Kothrud                   147\n",
      "Shivajinagar               72\n",
      "Kondhwa                    58\n",
      "Koregaon Park              53\n",
      "Erandwane                  52\n",
      "                         ... \n",
      "Karvenagar                  1\n",
      "BOPODI                      1\n",
      "Ganj Peth                   1\n",
      "Dhole Patil Road            1\n",
      "KAUSAR BAUGH NIBM ROAD      1\n",
      "Name: Area, Length: 99, dtype: int64\n"
     ]
    },
    {
     "data": {
      "text/plain": [
       "<AxesSubplot:>"
      ]
     },
     "execution_count": 44,
     "metadata": {},
     "output_type": "execute_result"
    },
    {
     "data": {
      "image/png": "[encoded data removed]",
      "text/plain": [
       "<Figure size 432x288 with 1 Axes>"
      ]
     },
     "metadata": {
      "needs_background": "light"
     },
     "output_type": "display_data"
    }
   ],
   "source": [
    "print(P1['Area'].value_counts())\n",
    "P1['Area'].value_counts().plot.bar()\n"
   ]
  },
  {
   "cell_type": "code",
   "execution_count": 46,
   "id": "f7d5adbb",
   "metadata": {},
   "outputs": [
    {
     "data": {
      "text/plain": [
       "<AxesSubplot:>"
      ]
     },
     "execution_count": 46,
     "metadata": {},
     "output_type": "execute_result"
    },
    {
     "data": {
      "image/png": "[encoded data removed]",
      "text/plain": [
       "<Figure size 432x288 with 1 Axes>"
      ]
     },
     "metadata": {
      "needs_background": "light"
     },
     "output_type": "display_data"
    }
   ],
   "source": [
    "P1['Veg'].value_counts().plot.bar()"
   ]
  },
  {
   "cell_type": "code",
   "execution_count": 76,
   "id": "c32ddd36",
   "metadata": {},
   "outputs": [
    {
     "data": {
      "text/html": [
       "<div>\n",
       "<style scoped>\n",
       "    .dataframe tbody tr th:only-of-type {\n",
       "        vertical-align: middle;\n",
       "    }\n",
       "\n",
       "    .dataframe tbody tr th {\n",
       "        vertical-align: top;\n",
       "    }\n",
       "\n",
       "    .dataframe thead th {\n",
       "        text-align: right;\n",
       "    }\n",
       "</style>\n",
       "<table border=\"1\" class=\"dataframe\">\n",
       "  <thead>\n",
       "    <tr style=\"text-align: right;\">\n",
       "      <th></th>\n",
       "      <th>Type</th>\n",
       "      <th>ID</th>\n",
       "      <th>Name</th>\n",
       "      <th>UUID</th>\n",
       "      <th>City</th>\n",
       "      <th>Area</th>\n",
       "      <th>Avg Rating</th>\n",
       "      <th>Total Rating String</th>\n",
       "      <th>Delivery Time</th>\n",
       "      <th>Address</th>\n",
       "      <th>Locality</th>\n",
       "      <th>Veg</th>\n",
       "    </tr>\n",
       "  </thead>\n",
       "  <tbody>\n",
       "    <tr>\n",
       "      <th>3273</th>\n",
       "      <td>F</td>\n",
       "      <td>458258.0</td>\n",
       "      <td>Fat Tiger</td>\n",
       "      <td>daa931a1-f224-4d17-b9a2-244d3c05e79d</td>\n",
       "      <td>Delhi</td>\n",
       "      <td>NSP</td>\n",
       "      <td>5.0</td>\n",
       "      <td>20+ ratings</td>\n",
       "      <td>73.0</td>\n",
       "      <td>EK/GF/05 Pacific Mall Netaji Subhash Place Pin...</td>\n",
       "      <td>NSP</td>\n",
       "      <td>False</td>\n",
       "    </tr>\n",
       "    <tr>\n",
       "      <th>2933</th>\n",
       "      <td>F</td>\n",
       "      <td>422325.0</td>\n",
       "      <td>The Sugar Free Keto Kafe - By Artinci</td>\n",
       "      <td>a92e1b42-557b-4ce7-b6a0-34f34a508297</td>\n",
       "      <td>Delhi</td>\n",
       "      <td>Rohini</td>\n",
       "      <td>4.8</td>\n",
       "      <td>20+ ratings</td>\n",
       "      <td>46.0</td>\n",
       "      <td>A 3/71 Pocket 3 Near Vatsalaya Mandir Sector 7...</td>\n",
       "      <td>Rohini</td>\n",
       "      <td>False</td>\n",
       "    </tr>\n",
       "    <tr>\n",
       "      <th>3065</th>\n",
       "      <td>F</td>\n",
       "      <td>142037.0</td>\n",
       "      <td>Pizza Paradise By VHC</td>\n",
       "      <td>3c967ac7-5fd3-4c21-a7be-3f4fba348855</td>\n",
       "      <td>Delhi</td>\n",
       "      <td>Rohini</td>\n",
       "      <td>4.8</td>\n",
       "      <td>20+ ratings</td>\n",
       "      <td>44.0</td>\n",
       "      <td>SHOP NO.-5  ground floor  D-11/40 SECTOR -8 RO...</td>\n",
       "      <td>Chattarpur</td>\n",
       "      <td>False</td>\n",
       "    </tr>\n",
       "    <tr>\n",
       "      <th>2949</th>\n",
       "      <td>F</td>\n",
       "      <td>446812.0</td>\n",
       "      <td>Biryani By Kilo</td>\n",
       "      <td>f355ef76-8ff8-49c3-9fae-d29d56ad7871</td>\n",
       "      <td>Delhi</td>\n",
       "      <td>VARDHMAN PREMIUM MALL</td>\n",
       "      <td>4.8</td>\n",
       "      <td>20+ ratings</td>\n",
       "      <td>53.0</td>\n",
       "      <td>GROUND FLOOR VARDHMAN PREMIUM MALL LSC DEEPALI...</td>\n",
       "      <td>Rohini</td>\n",
       "      <td>False</td>\n",
       "    </tr>\n",
       "    <tr>\n",
       "      <th>3096</th>\n",
       "      <td>F</td>\n",
       "      <td>331641.0</td>\n",
       "      <td>Shake'n Food</td>\n",
       "      <td>3b54defb-d1d9-417e-81bc-2c776179f28d</td>\n",
       "      <td>Delhi</td>\n",
       "      <td>Rohini</td>\n",
       "      <td>4.7</td>\n",
       "      <td>20+ ratings</td>\n",
       "      <td>46.0</td>\n",
       "      <td>c65shop number 2prashant vihar rohinidelhi</td>\n",
       "      <td>Rohini</td>\n",
       "      <td>False</td>\n",
       "    </tr>\n",
       "  </tbody>\n",
       "</table>\n",
       "</div>"
      ],
      "text/plain": [
       "     Type        ID                                   Name  \\\n",
       "3273    F  458258.0                              Fat Tiger   \n",
       "2933    F  422325.0  The Sugar Free Keto Kafe - By Artinci   \n",
       "3065    F  142037.0                  Pizza Paradise By VHC   \n",
       "2949    F  446812.0                        Biryani By Kilo   \n",
       "3096    F  331641.0                           Shake'n Food   \n",
       "\n",
       "                                      UUID   City                   Area  \\\n",
       "3273  daa931a1-f224-4d17-b9a2-244d3c05e79d  Delhi                    NSP   \n",
       "2933  a92e1b42-557b-4ce7-b6a0-34f34a508297  Delhi                 Rohini   \n",
       "3065  3c967ac7-5fd3-4c21-a7be-3f4fba348855  Delhi                 Rohini   \n",
       "2949  f355ef76-8ff8-49c3-9fae-d29d56ad7871  Delhi  VARDHMAN PREMIUM MALL   \n",
       "3096  3b54defb-d1d9-417e-81bc-2c776179f28d  Delhi                 Rohini   \n",
       "\n",
       "      Avg Rating Total Rating String  Delivery Time  \\\n",
       "3273         5.0         20+ ratings           73.0   \n",
       "2933         4.8         20+ ratings           46.0   \n",
       "3065         4.8         20+ ratings           44.0   \n",
       "2949         4.8         20+ ratings           53.0   \n",
       "3096         4.7         20+ ratings           46.0   \n",
       "\n",
       "                                                Address    Locality    Veg  \n",
       "3273  EK/GF/05 Pacific Mall Netaji Subhash Place Pin...         NSP  False  \n",
       "2933  A 3/71 Pocket 3 Near Vatsalaya Mandir Sector 7...      Rohini  False  \n",
       "3065  SHOP NO.-5  ground floor  D-11/40 SECTOR -8 RO...  Chattarpur  False  \n",
       "2949  GROUND FLOOR VARDHMAN PREMIUM MALL LSC DEEPALI...      Rohini  False  \n",
       "3096         c65shop number 2prashant vihar rohinidelhi      Rohini  False  "
      ]
     },
     "execution_count": 76,
     "metadata": {},
     "output_type": "execute_result"
    }
   ],
   "source": [
    "#Top 5 Restorent in Delhi register on swiggy\n",
    "D=sd1[['Type','ID','Name','UUID','City','Area','Avg Rating','Total Rating String','Delivery Time','Address','Locality','Veg']].where(sd1['City']=='Delhi')\n",
    "D1=D.sort_values(by=['Avg Rating'],ascending=False)\n",
    "D1.head(5)\n",
    "D['Avg Rating'].value_counts().plot.bar()"
   ]
  },
  {
   "cell_type": "code",
   "execution_count": 48,
   "id": "7a8e2304",
   "metadata": {},
   "outputs": [
    {
     "name": "stdout",
     "output_type": "stream",
     "text": [
      "Rohini                         253\n",
      "Paschim Vihar                   62\n",
      "Pitam Pura                      36\n",
      "Sector 7 Rohini                 18\n",
      "Rajouri Garden                  18\n",
      "                              ... \n",
      "pocket c-11 sector 5 Rohini      1\n",
      "Paharganj                        1\n",
      "Sector 8                         1\n",
      "Sainik Vihar                     1\n",
      "Punjab Bagh                      1\n",
      "Name: Area, Length: 88, dtype: int64\n"
     ]
    },
    {
     "data": {
      "text/plain": [
       "<AxesSubplot:>"
      ]
     },
     "execution_count": 48,
     "metadata": {},
     "output_type": "execute_result"
    },
    {
     "data": {
      "image/png": "[encoded data removed]",
      "text/plain": [
       "<Figure size 432x288 with 1 Axes>"
      ]
     },
     "metadata": {
      "needs_background": "light"
     },
     "output_type": "display_data"
    }
   ],
   "source": [
    "print(D1['Area'].value_counts())\n",
    "D1['Area'].value_counts().plot.bar()"
   ]
  },
  {
   "cell_type": "code",
   "execution_count": 50,
   "id": "0d779d17",
   "metadata": {},
   "outputs": [
    {
     "data": {
      "text/plain": [
       "<AxesSubplot:>"
      ]
     },
     "execution_count": 50,
     "metadata": {},
     "output_type": "execute_result"
    },
    {
     "data": {
      "image/png": "[encoded data removed]",
      "text/plain": [
       "<Figure size 432x288 with 1 Axes>"
      ]
     },
     "metadata": {
      "needs_background": "light"
     },
     "output_type": "display_data"
    }
   ],
   "source": [
    "D1['Veg'].value_counts().plot.bar()"
   ]
  },
  {
   "cell_type": "code",
   "execution_count": 74,
   "id": "44571798",
   "metadata": {},
   "outputs": [
    {
     "data": {
      "text/html": [
       "<div>\n",
       "<style scoped>\n",
       "    .dataframe tbody tr th:only-of-type {\n",
       "        vertical-align: middle;\n",
       "    }\n",
       "\n",
       "    .dataframe tbody tr th {\n",
       "        vertical-align: top;\n",
       "    }\n",
       "\n",
       "    .dataframe thead th {\n",
       "        text-align: right;\n",
       "    }\n",
       "</style>\n",
       "<table border=\"1\" class=\"dataframe\">\n",
       "  <thead>\n",
       "    <tr style=\"text-align: right;\">\n",
       "      <th></th>\n",
       "      <th>Type</th>\n",
       "      <th>ID</th>\n",
       "      <th>Name</th>\n",
       "      <th>UUID</th>\n",
       "      <th>City</th>\n",
       "      <th>Area</th>\n",
       "      <th>Avg Rating</th>\n",
       "      <th>Total Rating String</th>\n",
       "      <th>Delivery Time</th>\n",
       "      <th>Address</th>\n",
       "      <th>Locality</th>\n",
       "      <th>Veg</th>\n",
       "    </tr>\n",
       "  </thead>\n",
       "  <tbody>\n",
       "    <tr>\n",
       "      <th>1808</th>\n",
       "      <td>F</td>\n",
       "      <td>465218.0</td>\n",
       "      <td>Nasi and Mee</td>\n",
       "      <td>763866a6-471a-4b95-b821-3780f09e3ec9</td>\n",
       "      <td>Chennai</td>\n",
       "      <td>Annanagar</td>\n",
       "      <td>5.0</td>\n",
       "      <td>20+ ratings</td>\n",
       "      <td>70.0</td>\n",
       "      <td>PLOT.NO:2036D.O:141ST FLOOR 15TH MAIN ROADH.BL...</td>\n",
       "      <td>Annanagar</td>\n",
       "      <td>False</td>\n",
       "    </tr>\n",
       "    <tr>\n",
       "      <th>2249</th>\n",
       "      <td>F</td>\n",
       "      <td>450543.0</td>\n",
       "      <td>Afresh</td>\n",
       "      <td>d3252cf9-741b-446c-aac1-1566619e9a79</td>\n",
       "      <td>Chennai</td>\n",
       "      <td>Perambur</td>\n",
       "      <td>5.0</td>\n",
       "      <td>20+ ratings</td>\n",
       "      <td>50.0</td>\n",
       "      <td>FIRST FLOOR TOWER NO.1 BEARING FLAT NO.103 NOR...</td>\n",
       "      <td>Perambur</td>\n",
       "      <td>True</td>\n",
       "    </tr>\n",
       "    <tr>\n",
       "      <th>2604</th>\n",
       "      <td>F</td>\n",
       "      <td>217781.0</td>\n",
       "      <td>Ricky's Cookies</td>\n",
       "      <td>a5d39b1f-8b18-4175-a371-edf6ae9acb9f</td>\n",
       "      <td>Chennai</td>\n",
       "      <td>Alwarpet</td>\n",
       "      <td>4.9</td>\n",
       "      <td>20+ ratings</td>\n",
       "      <td>70.0</td>\n",
       "      <td>11 1st floor K.B Dasan Road (next to Register...</td>\n",
       "      <td>Alwarpet</td>\n",
       "      <td>False</td>\n",
       "    </tr>\n",
       "    <tr>\n",
       "      <th>1929</th>\n",
       "      <td>F</td>\n",
       "      <td>66245.0</td>\n",
       "      <td>Milkie Mustache</td>\n",
       "      <td>93d72a26-366e-4d07-a457-feaa6a1d1f8e</td>\n",
       "      <td>Chennai</td>\n",
       "      <td>Perambur</td>\n",
       "      <td>4.9</td>\n",
       "      <td>20+ ratings</td>\n",
       "      <td>64.0</td>\n",
       "      <td>14/1 15/1 Siva Elango Salai Jawahar Naga Peram...</td>\n",
       "      <td>Jawahar Nagar</td>\n",
       "      <td>True</td>\n",
       "    </tr>\n",
       "    <tr>\n",
       "      <th>2209</th>\n",
       "      <td>F</td>\n",
       "      <td>425588.0</td>\n",
       "      <td>1BY2</td>\n",
       "      <td>18420443-6158-415b-9f5b-9e7059912ea2</td>\n",
       "      <td>Chennai</td>\n",
       "      <td>T Nagar</td>\n",
       "      <td>4.9</td>\n",
       "      <td>20+ ratings</td>\n",
       "      <td>79.0</td>\n",
       "      <td>No: 213 Sir Theagaraya Road T nagar Opp to Kes...</td>\n",
       "      <td>T Nagar</td>\n",
       "      <td>False</td>\n",
       "    </tr>\n",
       "  </tbody>\n",
       "</table>\n",
       "</div>"
      ],
      "text/plain": [
       "     Type        ID             Name                                  UUID  \\\n",
       "1808    F  465218.0     Nasi and Mee  763866a6-471a-4b95-b821-3780f09e3ec9   \n",
       "2249    F  450543.0           Afresh  d3252cf9-741b-446c-aac1-1566619e9a79   \n",
       "2604    F  217781.0  Ricky's Cookies  a5d39b1f-8b18-4175-a371-edf6ae9acb9f   \n",
       "1929    F   66245.0  Milkie Mustache  93d72a26-366e-4d07-a457-feaa6a1d1f8e   \n",
       "2209    F  425588.0             1BY2  18420443-6158-415b-9f5b-9e7059912ea2   \n",
       "\n",
       "         City       Area  Avg Rating Total Rating String  Delivery Time  \\\n",
       "1808  Chennai  Annanagar         5.0         20+ ratings           70.0   \n",
       "2249  Chennai   Perambur         5.0         20+ ratings           50.0   \n",
       "2604  Chennai   Alwarpet         4.9         20+ ratings           70.0   \n",
       "1929  Chennai   Perambur         4.9         20+ ratings           64.0   \n",
       "2209  Chennai    T Nagar         4.9         20+ ratings           79.0   \n",
       "\n",
       "                                                Address       Locality    Veg  \n",
       "1808  PLOT.NO:2036D.O:141ST FLOOR 15TH MAIN ROADH.BL...      Annanagar  False  \n",
       "2249  FIRST FLOOR TOWER NO.1 BEARING FLAT NO.103 NOR...       Perambur   True  \n",
       "2604   11 1st floor K.B Dasan Road (next to Register...       Alwarpet  False  \n",
       "1929  14/1 15/1 Siva Elango Salai Jawahar Naga Peram...  Jawahar Nagar   True  \n",
       "2209  No: 213 Sir Theagaraya Road T nagar Opp to Kes...        T Nagar  False  "
      ]
     },
     "execution_count": 74,
     "metadata": {},
     "output_type": "execute_result"
    }
   ],
   "source": [
    "#Top 5 Restorent in Chennai register on swiggy\n",
    "C=sd1[['Type','ID','Name','UUID','City','Area','Avg Rating','Total Rating String','Delivery Time','Address','Locality','Veg']].where(sd1['City']=='Chennai')\n",
    "C1=C.sort_values(by=['Avg Rating'],ascending=False)\n",
    "C1.head(5)\n",
    "C['Avg Rating'].value_counts().plot.bar()"
   ]
  },
  {
   "cell_type": "code",
   "execution_count": 52,
   "id": "25884360",
   "metadata": {},
   "outputs": [
    {
     "name": "stdout",
     "output_type": "stream",
     "text": [
      "Perambur                        89\n",
      "Anna Nagar                      73\n",
      "Kilpauk                         57\n",
      "Egmore                          57\n",
      "Nungambakkam                    51\n",
      "                                ..\n",
      "Vishnu Garden                    1\n",
      "Express Avenue Mall              1\n",
      "Chintadripet                     1\n",
      "Anna nagar west                  1\n",
      "Thirunagar Signal Vadapalani     1\n",
      "Name: Area, Length: 83, dtype: int64\n"
     ]
    },
    {
     "data": {
      "text/plain": [
       "<AxesSubplot:>"
      ]
     },
     "execution_count": 52,
     "metadata": {},
     "output_type": "execute_result"
    },
    {
     "data": {
      "image/png": "[encoded data removed]",
      "text/plain": [
       "<Figure size 432x288 with 1 Axes>"
      ]
     },
     "metadata": {
      "needs_background": "light"
     },
     "output_type": "display_data"
    }
   ],
   "source": [
    "print(C1['Area'].value_counts())\n",
    "C1['Area'].value_counts().plot.bar()"
   ]
  },
  {
   "cell_type": "code",
   "execution_count": 54,
   "id": "40fc4eb6",
   "metadata": {},
   "outputs": [
    {
     "data": {
      "text/plain": [
       "<AxesSubplot:>"
      ]
     },
     "execution_count": 54,
     "metadata": {},
     "output_type": "execute_result"
    },
    {
     "data": {
      "image/png": "[encoded data removed]",
      "text/plain": [
       "<Figure size 432x288 with 1 Axes>"
      ]
     },
     "metadata": {
      "needs_background": "light"
     },
     "output_type": "display_data"
    }
   ],
   "source": [
    "C1['Veg'].value_counts().plot.bar()"
   ]
  },
  {
   "cell_type": "code",
   "execution_count": 55,
   "id": "e5d1c7ca",
   "metadata": {},
   "outputs": [
    {
     "data": {
      "text/html": [
       "<div>\n",
       "<style scoped>\n",
       "    .dataframe tbody tr th:only-of-type {\n",
       "        vertical-align: middle;\n",
       "    }\n",
       "\n",
       "    .dataframe tbody tr th {\n",
       "        vertical-align: top;\n",
       "    }\n",
       "\n",
       "    .dataframe thead th {\n",
       "        text-align: right;\n",
       "    }\n",
       "</style>\n",
       "<table border=\"1\" class=\"dataframe\">\n",
       "  <thead>\n",
       "    <tr style=\"text-align: right;\">\n",
       "      <th></th>\n",
       "      <th>Type</th>\n",
       "      <th>ID</th>\n",
       "      <th>Name</th>\n",
       "      <th>UUID</th>\n",
       "      <th>City</th>\n",
       "      <th>Area</th>\n",
       "      <th>Avg Rating</th>\n",
       "      <th>Total Rating String</th>\n",
       "      <th>Delivery Time</th>\n",
       "      <th>Address</th>\n",
       "      <th>Locality</th>\n",
       "      <th>Veg</th>\n",
       "    </tr>\n",
       "  </thead>\n",
       "  <tbody>\n",
       "    <tr>\n",
       "      <th>6040</th>\n",
       "      <td>F</td>\n",
       "      <td>50343.0</td>\n",
       "      <td>SNAXX</td>\n",
       "      <td>c3d27863-162a-4289-a2eb-4afedb9cd917</td>\n",
       "      <td>Mumbai</td>\n",
       "      <td>Bkc</td>\n",
       "      <td>5.0</td>\n",
       "      <td>20+ ratings</td>\n",
       "      <td>44.0</td>\n",
       "      <td>Tower CC 04 Bharat Diamond Bourse Bandra Kurla...</td>\n",
       "      <td>BKC</td>\n",
       "      <td>True</td>\n",
       "    </tr>\n",
       "    <tr>\n",
       "      <th>6042</th>\n",
       "      <td>F</td>\n",
       "      <td>357553.0</td>\n",
       "      <td>Diamond Market Pizza JP</td>\n",
       "      <td>d4d13aab-b117-4e40-add3-602ab252bb68</td>\n",
       "      <td>Mumbai</td>\n",
       "      <td>Bandra East</td>\n",
       "      <td>5.0</td>\n",
       "      <td>20+ ratings</td>\n",
       "      <td>43.0</td>\n",
       "      <td>Pick up Address is Gate No 8 Bharat Diamond Bo...</td>\n",
       "      <td>Scruz Bandra East</td>\n",
       "      <td>False</td>\n",
       "    </tr>\n",
       "    <tr>\n",
       "      <th>7057</th>\n",
       "      <td>F</td>\n",
       "      <td>427282.0</td>\n",
       "      <td>The Asian Pavilion</td>\n",
       "      <td>da365dc1-7f05-46ee-a91c-5ff3e6c8d4af</td>\n",
       "      <td>Mumbai</td>\n",
       "      <td>Chembur</td>\n",
       "      <td>5.0</td>\n",
       "      <td>20+ ratings</td>\n",
       "      <td>64.0</td>\n",
       "      <td>Gala No 11 First Floor Waman Patil Industrial ...</td>\n",
       "      <td>Chembur</td>\n",
       "      <td>False</td>\n",
       "    </tr>\n",
       "    <tr>\n",
       "      <th>7058</th>\n",
       "      <td>F</td>\n",
       "      <td>427280.0</td>\n",
       "      <td>Get In My Belly</td>\n",
       "      <td>c35a37a0-49f1-462b-9da1-101f21c3497c</td>\n",
       "      <td>Mumbai</td>\n",
       "      <td>Chembur</td>\n",
       "      <td>5.0</td>\n",
       "      <td>20+ ratings</td>\n",
       "      <td>58.0</td>\n",
       "      <td>Gala No 11 First Floor Waman Patil Industrial ...</td>\n",
       "      <td>Chembur</td>\n",
       "      <td>False</td>\n",
       "    </tr>\n",
       "    <tr>\n",
       "      <th>6302</th>\n",
       "      <td>F</td>\n",
       "      <td>444623.0</td>\n",
       "      <td>NIVALA APKA APNA</td>\n",
       "      <td>665a7387-dbc4-4ef6-942c-fad9edc971c1</td>\n",
       "      <td>Mumbai</td>\n",
       "      <td>Andheri East</td>\n",
       "      <td>5.0</td>\n",
       "      <td>20+ ratings</td>\n",
       "      <td>48.0</td>\n",
       "      <td>SHOP NO.5JALARAM COMMERCIAL CENTERNR ANSA INDU...</td>\n",
       "      <td>Andheri East</td>\n",
       "      <td>False</td>\n",
       "    </tr>\n",
       "  </tbody>\n",
       "</table>\n",
       "</div>"
      ],
      "text/plain": [
       "     Type        ID                     Name  \\\n",
       "6040    F   50343.0                    SNAXX   \n",
       "6042    F  357553.0  Diamond Market Pizza JP   \n",
       "7057    F  427282.0       The Asian Pavilion   \n",
       "7058    F  427280.0          Get In My Belly   \n",
       "6302    F  444623.0         NIVALA APKA APNA   \n",
       "\n",
       "                                      UUID    City          Area  Avg Rating  \\\n",
       "6040  c3d27863-162a-4289-a2eb-4afedb9cd917  Mumbai           Bkc         5.0   \n",
       "6042  d4d13aab-b117-4e40-add3-602ab252bb68  Mumbai   Bandra East         5.0   \n",
       "7057  da365dc1-7f05-46ee-a91c-5ff3e6c8d4af  Mumbai       Chembur         5.0   \n",
       "7058  c35a37a0-49f1-462b-9da1-101f21c3497c  Mumbai       Chembur         5.0   \n",
       "6302  665a7387-dbc4-4ef6-942c-fad9edc971c1  Mumbai  Andheri East         5.0   \n",
       "\n",
       "     Total Rating String  Delivery Time  \\\n",
       "6040         20+ ratings           44.0   \n",
       "6042         20+ ratings           43.0   \n",
       "7057         20+ ratings           64.0   \n",
       "7058         20+ ratings           58.0   \n",
       "6302         20+ ratings           48.0   \n",
       "\n",
       "                                                Address           Locality  \\\n",
       "6040  Tower CC 04 Bharat Diamond Bourse Bandra Kurla...                BKC   \n",
       "6042  Pick up Address is Gate No 8 Bharat Diamond Bo...  Scruz Bandra East   \n",
       "7057  Gala No 11 First Floor Waman Patil Industrial ...            Chembur   \n",
       "7058  Gala No 11 First Floor Waman Patil Industrial ...            Chembur   \n",
       "6302  SHOP NO.5JALARAM COMMERCIAL CENTERNR ANSA INDU...       Andheri East   \n",
       "\n",
       "        Veg  \n",
       "6040   True  \n",
       "6042  False  \n",
       "7057  False  \n",
       "7058  False  \n",
       "6302  False  "
      ]
     },
     "execution_count": 55,
     "metadata": {},
     "output_type": "execute_result"
    }
   ],
   "source": [
    "#Top 5 Restorent in Mumbai register on swiggy\n",
    "M=sd1[['Type','ID','Name','UUID','City','Area','Avg Rating','Total Rating String','Delivery Time','Address','Locality','Veg']].where(sd1['City']=='Mumbai')\n",
    "M1=M.sort_values(by=['Avg Rating'],ascending=False)\n",
    "M1.head(5)\n"
   ]
  },
  {
   "cell_type": "code",
   "execution_count": 56,
   "id": "33f8e522",
   "metadata": {},
   "outputs": [
    {
     "data": {
      "text/plain": [
       "<AxesSubplot:>"
      ]
     },
     "execution_count": 56,
     "metadata": {},
     "output_type": "execute_result"
    },
    {
     "data": {
      "image/png": "[encoded data removed]",
      "text/plain": [
       "<Figure size 432x288 with 1 Axes>"
      ]
     },
     "metadata": {
      "needs_background": "light"
     },
     "output_type": "display_data"
    }
   ],
   "source": [
    "M['Avg Rating'].value_counts().plot.bar()"
   ]
  },
  {
   "cell_type": "code",
   "execution_count": 57,
   "id": "6520b5c7",
   "metadata": {},
   "outputs": [
    {
     "name": "stdout",
     "output_type": "stream",
     "text": [
      "Chembur              207\n",
      "Andheri East         135\n",
      "Kurla                129\n",
      "Santacruz East       109\n",
      "Powai                 90\n",
      "                    ... \n",
      "Saki Vihar Road        1\n",
      "Andheri West Area      1\n",
      "powai                  1\n",
      "Chembur colony         1\n",
      "Kurla - Mumbai         1\n",
      "Name: Area, Length: 74, dtype: int64\n"
     ]
    },
    {
     "data": {
      "text/plain": [
       "<AxesSubplot:>"
      ]
     },
     "execution_count": 57,
     "metadata": {},
     "output_type": "execute_result"
    },
    {
     "name": "stderr",
     "output_type": "stream",
     "text": [
      "E:\\anaconda_Install\\lib\\site-packages\\IPython\\core\\pylabtools.py:151: UserWarning: Glyph 9 (\t) missing from current font.\n",
      "  fig.canvas.print_figure(bytes_io, **kw)\n"
     ]
    },
    {
     "data": {
      "image/png": "[encoded data removed]",
      "text/plain": [
       "<Figure size 432x288 with 1 Axes>"
      ]
     },
     "metadata": {
      "needs_background": "light"
     },
     "output_type": "display_data"
    }
   ],
   "source": [
    "print(M1['Area'].value_counts())\n",
    "M1['Area'].value_counts().plot.bar()"
   ]
  },
  {
   "cell_type": "code",
   "execution_count": 59,
   "id": "cd24b4c9",
   "metadata": {},
   "outputs": [
    {
     "data": {
      "text/plain": [
       "<AxesSubplot:>"
      ]
     },
     "execution_count": 59,
     "metadata": {},
     "output_type": "execute_result"
    },
    {
     "data": {
      "image/png": "[encoded data removed]",
      "text/plain": [
       "<Figure size 432x288 with 1 Axes>"
      ]
     },
     "metadata": {
      "needs_background": "light"
     },
     "output_type": "display_data"
    }
   ],
   "source": [
    "M1['Veg'].value_counts().plot.bar()"
   ]
  },
  {
   "cell_type": "code",
   "execution_count": 73,
   "id": "1cf66a92",
   "metadata": {},
   "outputs": [
    {
     "data": {
      "text/html": [
       "<div>\n",
       "<style scoped>\n",
       "    .dataframe tbody tr th:only-of-type {\n",
       "        vertical-align: middle;\n",
       "    }\n",
       "\n",
       "    .dataframe tbody tr th {\n",
       "        vertical-align: top;\n",
       "    }\n",
       "\n",
       "    .dataframe thead th {\n",
       "        text-align: right;\n",
       "    }\n",
       "</style>\n",
       "<table border=\"1\" class=\"dataframe\">\n",
       "  <thead>\n",
       "    <tr style=\"text-align: right;\">\n",
       "      <th></th>\n",
       "      <th>Type</th>\n",
       "      <th>ID</th>\n",
       "      <th>Name</th>\n",
       "      <th>UUID</th>\n",
       "      <th>City</th>\n",
       "      <th>Area</th>\n",
       "      <th>Avg Rating</th>\n",
       "      <th>Total Rating String</th>\n",
       "      <th>Delivery Time</th>\n",
       "      <th>Address</th>\n",
       "      <th>Locality</th>\n",
       "      <th>Veg</th>\n",
       "    </tr>\n",
       "  </thead>\n",
       "  <tbody>\n",
       "    <tr>\n",
       "      <th>4573</th>\n",
       "      <td>F</td>\n",
       "      <td>432094.0</td>\n",
       "      <td>Keventers Ice Creamery</td>\n",
       "      <td>7273720c-5f2c-44da-b55b-e714f4c31dce</td>\n",
       "      <td>Kolkata</td>\n",
       "      <td>Esplanade</td>\n",
       "      <td>5.0</td>\n",
       "      <td>20+ ratings</td>\n",
       "      <td>45.0</td>\n",
       "      <td>1 Humayan Place Ground Floor New Empire Cinema...</td>\n",
       "      <td>New Empire Cinema Kolkata</td>\n",
       "      <td>True</td>\n",
       "    </tr>\n",
       "    <tr>\n",
       "      <th>5573</th>\n",
       "      <td>F</td>\n",
       "      <td>435964.0</td>\n",
       "      <td>Keventers - Milkshakes and Desserts</td>\n",
       "      <td>a14b29f5-f8ad-4671-bb8d-4e5ed7466e7d</td>\n",
       "      <td>Kolkata</td>\n",
       "      <td>Esplanade</td>\n",
       "      <td>4.9</td>\n",
       "      <td>20+ ratings</td>\n",
       "      <td>42.0</td>\n",
       "      <td>1  Humayan Place  Ground Floor  New Empire Cin...</td>\n",
       "      <td>New Empire Cinema  Kolkata</td>\n",
       "      <td>False</td>\n",
       "    </tr>\n",
       "    <tr>\n",
       "      <th>4492</th>\n",
       "      <td>F</td>\n",
       "      <td>416376.0</td>\n",
       "      <td>Pabrai's Fresh And Naturelle IceCream</td>\n",
       "      <td>6d89c0e2-238d-4abf-9f78-730530343a6f</td>\n",
       "      <td>Kolkata</td>\n",
       "      <td>Girish Park</td>\n",
       "      <td>4.9</td>\n",
       "      <td>20+ ratings</td>\n",
       "      <td>37.0</td>\n",
       "      <td>64 Vivekananda RoadGirish Park Kolkata-700006</td>\n",
       "      <td>Burrabazar</td>\n",
       "      <td>False</td>\n",
       "    </tr>\n",
       "    <tr>\n",
       "      <th>5478</th>\n",
       "      <td>F</td>\n",
       "      <td>263360.0</td>\n",
       "      <td>Riyasat</td>\n",
       "      <td>47001f83-a76d-41c3-b025-fb8030211a0e</td>\n",
       "      <td>Kolkata</td>\n",
       "      <td>Jadavpur</td>\n",
       "      <td>4.8</td>\n",
       "      <td>20+ ratings</td>\n",
       "      <td>94.0</td>\n",
       "      <td>3rd Floor South City Mall 375 Prince Anwar Sha...</td>\n",
       "      <td>South City Mall</td>\n",
       "      <td>False</td>\n",
       "    </tr>\n",
       "    <tr>\n",
       "      <th>5761</th>\n",
       "      <td>F</td>\n",
       "      <td>271760.0</td>\n",
       "      <td>Pabrai's Fresh and Naturelle Ice Creams</td>\n",
       "      <td>35638244-f345-4b7a-9086-9d65293bc24b</td>\n",
       "      <td>Kolkata</td>\n",
       "      <td>East Kolkata Township</td>\n",
       "      <td>4.8</td>\n",
       "      <td>100+ ratings</td>\n",
       "      <td>68.0</td>\n",
       "      <td>101  Rash Bihari Ave Connector  Rajdanga Nabap...</td>\n",
       "      <td>Ruby Area</td>\n",
       "      <td>True</td>\n",
       "    </tr>\n",
       "  </tbody>\n",
       "</table>\n",
       "</div>"
      ],
      "text/plain": [
       "     Type        ID                                     Name  \\\n",
       "4573    F  432094.0                   Keventers Ice Creamery   \n",
       "5573    F  435964.0      Keventers - Milkshakes and Desserts   \n",
       "4492    F  416376.0    Pabrai's Fresh And Naturelle IceCream   \n",
       "5478    F  263360.0                                  Riyasat   \n",
       "5761    F  271760.0  Pabrai's Fresh and Naturelle Ice Creams   \n",
       "\n",
       "                                      UUID     City                   Area  \\\n",
       "4573  7273720c-5f2c-44da-b55b-e714f4c31dce  Kolkata              Esplanade   \n",
       "5573  a14b29f5-f8ad-4671-bb8d-4e5ed7466e7d  Kolkata              Esplanade   \n",
       "4492  6d89c0e2-238d-4abf-9f78-730530343a6f  Kolkata            Girish Park   \n",
       "5478  47001f83-a76d-41c3-b025-fb8030211a0e  Kolkata               Jadavpur   \n",
       "5761  35638244-f345-4b7a-9086-9d65293bc24b  Kolkata  East Kolkata Township   \n",
       "\n",
       "      Avg Rating Total Rating String  Delivery Time  \\\n",
       "4573         5.0         20+ ratings           45.0   \n",
       "5573         4.9         20+ ratings           42.0   \n",
       "4492         4.9         20+ ratings           37.0   \n",
       "5478         4.8         20+ ratings           94.0   \n",
       "5761         4.8        100+ ratings           68.0   \n",
       "\n",
       "                                                Address  \\\n",
       "4573  1 Humayan Place Ground Floor New Empire Cinema...   \n",
       "5573  1  Humayan Place  Ground Floor  New Empire Cin...   \n",
       "4492      64 Vivekananda RoadGirish Park Kolkata-700006   \n",
       "5478  3rd Floor South City Mall 375 Prince Anwar Sha...   \n",
       "5761  101  Rash Bihari Ave Connector  Rajdanga Nabap...   \n",
       "\n",
       "                        Locality    Veg  \n",
       "4573   New Empire Cinema Kolkata   True  \n",
       "5573  New Empire Cinema  Kolkata  False  \n",
       "4492                  Burrabazar  False  \n",
       "5478             South City Mall  False  \n",
       "5761                   Ruby Area   True  "
      ]
     },
     "execution_count": 73,
     "metadata": {},
     "output_type": "execute_result"
    }
   ],
   "source": [
    "#Top 5 Restorent in Kolkata register on swiggy\n",
    "K=sd1[['Type','ID','Name','UUID','City','Area','Avg Rating','Total Rating String','Delivery Time','Address','Locality','Veg']].where(sd1['City']=='Kolkata')\n",
    "K1=K.sort_values(by=['Avg Rating'],ascending=False)\n",
    "K1.head(5)\n",
    "K['Avg Rating'].value_counts().plot.bar()"
   ]
  },
  {
   "cell_type": "code",
   "execution_count": 62,
   "id": "a77afbbe",
   "metadata": {},
   "outputs": [
    {
     "name": "stdout",
     "output_type": "stream",
     "text": [
      "Bidhannagar            123\n",
      "Salt Lake               71\n",
      "Lake Town               68\n",
      "Ballygunge              64\n",
      "Bhowanipore             63\n",
      "                      ... \n",
      "RamMandir                1\n",
      "Kustia                   1\n",
      "picnic garden            1\n",
      "Broadway Mall            1\n",
      "salt lake - kolkata      1\n",
      "Name: Area, Length: 144, dtype: int64\n"
     ]
    },
    {
     "data": {
      "text/plain": [
       "<AxesSubplot:>"
      ]
     },
     "execution_count": 62,
     "metadata": {},
     "output_type": "execute_result"
    },
    {
     "data": {
      "image/png": "[encoded data removed]",
      "text/plain": [
       "<Figure size 432x288 with 1 Axes>"
      ]
     },
     "metadata": {
      "needs_background": "light"
     },
     "output_type": "display_data"
    }
   ],
   "source": [
    "print(K1['Area'].value_counts())\n",
    "K1['Area'].value_counts().plot.bar()"
   ]
  },
  {
   "cell_type": "code",
   "execution_count": 63,
   "id": "75cb1b4c",
   "metadata": {},
   "outputs": [
    {
     "data": {
      "text/plain": [
       "False    1113\n",
       "True      233\n",
       "Name: Veg, dtype: int64"
      ]
     },
     "execution_count": 63,
     "metadata": {},
     "output_type": "execute_result"
    }
   ],
   "source": [
    "K1['Veg'].value_counts()"
   ]
  },
  {
   "cell_type": "code",
   "execution_count": 75,
   "id": "24cdd363",
   "metadata": {},
   "outputs": [
    {
     "data": {
      "text/html": [
       "<div>\n",
       "<style scoped>\n",
       "    .dataframe tbody tr th:only-of-type {\n",
       "        vertical-align: middle;\n",
       "    }\n",
       "\n",
       "    .dataframe tbody tr th {\n",
       "        vertical-align: top;\n",
       "    }\n",
       "\n",
       "    .dataframe thead th {\n",
       "        text-align: right;\n",
       "    }\n",
       "</style>\n",
       "<table border=\"1\" class=\"dataframe\">\n",
       "  <thead>\n",
       "    <tr style=\"text-align: right;\">\n",
       "      <th></th>\n",
       "      <th>Type</th>\n",
       "      <th>ID</th>\n",
       "      <th>Name</th>\n",
       "      <th>UUID</th>\n",
       "      <th>City</th>\n",
       "      <th>Area</th>\n",
       "      <th>Avg Rating</th>\n",
       "      <th>Total Rating String</th>\n",
       "      <th>Delivery Time</th>\n",
       "      <th>Address</th>\n",
       "      <th>Locality</th>\n",
       "      <th>Veg</th>\n",
       "    </tr>\n",
       "  </thead>\n",
       "  <tbody>\n",
       "    <tr>\n",
       "      <th>4263</th>\n",
       "      <td>F</td>\n",
       "      <td>442023.0</td>\n",
       "      <td>The Liege Waffles</td>\n",
       "      <td>a90de75f-ce7f-4c13-b055-ff6e4c0ff098</td>\n",
       "      <td>Hyderabad</td>\n",
       "      <td>Himayath Nagar</td>\n",
       "      <td>5.0</td>\n",
       "      <td>20+ ratings</td>\n",
       "      <td>45.0</td>\n",
       "      <td>Ground Floor  1-2-593/23  Gagan Mahal Colony  ...</td>\n",
       "      <td>Himayath Nagar</td>\n",
       "      <td>False</td>\n",
       "    </tr>\n",
       "    <tr>\n",
       "      <th>4297</th>\n",
       "      <td>F</td>\n",
       "      <td>448909.0</td>\n",
       "      <td>Zorro - Milkshakes and Thickshakes</td>\n",
       "      <td>a49f5889-80eb-4fe1-a58b-9e3e4538b428</td>\n",
       "      <td>Hyderabad</td>\n",
       "      <td>Himayath Nagar</td>\n",
       "      <td>5.0</td>\n",
       "      <td>20+ ratings</td>\n",
       "      <td>46.0</td>\n",
       "      <td>Ground Floor  1-2-593/23  Gagan Mahal Colony  ...</td>\n",
       "      <td>Himayath Nagar</td>\n",
       "      <td>False</td>\n",
       "    </tr>\n",
       "    <tr>\n",
       "      <th>4286</th>\n",
       "      <td>F</td>\n",
       "      <td>442021.0</td>\n",
       "      <td>Splurge - Thickshakes and Milkshakes</td>\n",
       "      <td>f8280f71-5b2c-42e7-ad73-bdad2b1abb60</td>\n",
       "      <td>Hyderabad</td>\n",
       "      <td>Himayath Nagar</td>\n",
       "      <td>5.0</td>\n",
       "      <td>20+ ratings</td>\n",
       "      <td>45.0</td>\n",
       "      <td>Ground Floor  1-2-593/23  Gagan Mahal Colony  ...</td>\n",
       "      <td>Himayath Nagar</td>\n",
       "      <td>False</td>\n",
       "    </tr>\n",
       "    <tr>\n",
       "      <th>4369</th>\n",
       "      <td>F</td>\n",
       "      <td>441870.0</td>\n",
       "      <td>Wallonia Waffle Co.</td>\n",
       "      <td>fbededbe-174e-4eb9-a4b1-f011c1ec2b51</td>\n",
       "      <td>Hyderabad</td>\n",
       "      <td>Himayath Nagar</td>\n",
       "      <td>5.0</td>\n",
       "      <td>20+ ratings</td>\n",
       "      <td>45.0</td>\n",
       "      <td>Ground Floor  1-2-593/23  Gagan Mahal Colony  ...</td>\n",
       "      <td>Himayath Nagar</td>\n",
       "      <td>False</td>\n",
       "    </tr>\n",
       "    <tr>\n",
       "      <th>3646</th>\n",
       "      <td>F</td>\n",
       "      <td>421026.0</td>\n",
       "      <td>Hotel Indu Deluxe</td>\n",
       "      <td>a5065833-d502-4718-85ca-c1931854d0b4</td>\n",
       "      <td>Hyderabad</td>\n",
       "      <td>Khairtabad</td>\n",
       "      <td>4.9</td>\n",
       "      <td>20+ ratings</td>\n",
       "      <td>44.0</td>\n",
       "      <td>H.No: 6-1-60/A DR No-6 Block No-1 Saifabad Abi...</td>\n",
       "      <td>Banjara Hills</td>\n",
       "      <td>False</td>\n",
       "    </tr>\n",
       "  </tbody>\n",
       "</table>\n",
       "</div>"
      ],
      "text/plain": [
       "     Type        ID                                  Name  \\\n",
       "4263    F  442023.0                     The Liege Waffles   \n",
       "4297    F  448909.0    Zorro - Milkshakes and Thickshakes   \n",
       "4286    F  442021.0  Splurge - Thickshakes and Milkshakes   \n",
       "4369    F  441870.0                   Wallonia Waffle Co.   \n",
       "3646    F  421026.0                     Hotel Indu Deluxe   \n",
       "\n",
       "                                      UUID       City            Area  \\\n",
       "4263  a90de75f-ce7f-4c13-b055-ff6e4c0ff098  Hyderabad  Himayath Nagar   \n",
       "4297  a49f5889-80eb-4fe1-a58b-9e3e4538b428  Hyderabad  Himayath Nagar   \n",
       "4286  f8280f71-5b2c-42e7-ad73-bdad2b1abb60  Hyderabad  Himayath Nagar   \n",
       "4369  fbededbe-174e-4eb9-a4b1-f011c1ec2b51  Hyderabad  Himayath Nagar   \n",
       "3646  a5065833-d502-4718-85ca-c1931854d0b4  Hyderabad      Khairtabad   \n",
       "\n",
       "      Avg Rating Total Rating String  Delivery Time  \\\n",
       "4263         5.0         20+ ratings           45.0   \n",
       "4297         5.0         20+ ratings           46.0   \n",
       "4286         5.0         20+ ratings           45.0   \n",
       "4369         5.0         20+ ratings           45.0   \n",
       "3646         4.9         20+ ratings           44.0   \n",
       "\n",
       "                                                Address        Locality    Veg  \n",
       "4263  Ground Floor  1-2-593/23  Gagan Mahal Colony  ...  Himayath Nagar  False  \n",
       "4297  Ground Floor  1-2-593/23  Gagan Mahal Colony  ...  Himayath Nagar  False  \n",
       "4286  Ground Floor  1-2-593/23  Gagan Mahal Colony  ...  Himayath Nagar  False  \n",
       "4369  Ground Floor  1-2-593/23  Gagan Mahal Colony  ...  Himayath Nagar  False  \n",
       "3646  H.No: 6-1-60/A DR No-6 Block No-1 Saifabad Abi...   Banjara Hills  False  "
      ]
     },
     "execution_count": 75,
     "metadata": {},
     "output_type": "execute_result"
    }
   ],
   "source": [
    "#Top 5 Restorent in Hyderabad register on swiggy\n",
    "H=sd1[['Type','ID','Name','UUID','City','Area','Avg Rating','Total Rating String','Delivery Time','Address','Locality','Veg']].where(sd1['City']=='Hyderabad')\n",
    "H1=H.sort_values(by=['Avg Rating'],ascending=False)\n",
    "H1.head(5)\n",
    "H['Avg Rating'].value_counts().plot.bar()\n"
   ]
  },
  {
   "cell_type": "code",
   "execution_count": 65,
   "id": "e25a07e4",
   "metadata": {},
   "outputs": [
    {
     "name": "stdout",
     "output_type": "stream",
     "text": [
      "Banjara Hills                          112\n",
      "Himayath Nagar                          92\n",
      "Kothapet & Dilsukhnagar                 65\n",
      "Himayatnagar                            54\n",
      "Nallakunta & Vidyanagar                 45\n",
      "                                      ... \n",
      "LB Nagar                                 1\n",
      " Begumpet                                1\n",
      "Tolichowki HPS kids school opposite      1\n",
      "Uppal - Hyderabad                        1\n",
      "Lakdi ka pul                             1\n",
      "Name: Area, Length: 157, dtype: int64\n"
     ]
    },
    {
     "data": {
      "text/plain": [
       "<AxesSubplot:>"
      ]
     },
     "execution_count": 65,
     "metadata": {},
     "output_type": "execute_result"
    },
    {
     "data": {
      "image/png": "[encoded data removed]",
      "text/plain": [
       "<Figure size 432x288 with 1 Axes>"
      ]
     },
     "metadata": {
      "needs_background": "light"
     },
     "output_type": "display_data"
    }
   ],
   "source": [
    "print(H1['Area'].value_counts())\n",
    "H1['Area'].value_counts().plot.bar()"
   ]
  },
  {
   "cell_type": "code",
   "execution_count": 66,
   "id": "ac7fe705",
   "metadata": {},
   "outputs": [
    {
     "data": {
      "text/plain": [
       "False    797\n",
       "True     278\n",
       "Name: Veg, dtype: int64"
      ]
     },
     "execution_count": 66,
     "metadata": {},
     "output_type": "execute_result"
    }
   ],
   "source": [
    "H1['Veg'].value_counts()"
   ]
  },
  {
   "cell_type": "code",
   "execution_count": 168,
   "id": "0894ebca",
   "metadata": {},
   "outputs": [
    {
     "data": {
      "text/html": [
       "<div>\n",
       "<style scoped>\n",
       "    .dataframe tbody tr th:only-of-type {\n",
       "        vertical-align: middle;\n",
       "    }\n",
       "\n",
       "    .dataframe tbody tr th {\n",
       "        vertical-align: top;\n",
       "    }\n",
       "\n",
       "    .dataframe thead th {\n",
       "        text-align: right;\n",
       "    }\n",
       "</style>\n",
       "<table border=\"1\" class=\"dataframe\">\n",
       "  <thead>\n",
       "    <tr style=\"text-align: right;\">\n",
       "      <th></th>\n",
       "      <th>Type</th>\n",
       "      <th>ID</th>\n",
       "      <th>Name</th>\n",
       "      <th>UUID</th>\n",
       "      <th>City</th>\n",
       "      <th>Area</th>\n",
       "      <th>Avg Rating</th>\n",
       "      <th>Total Rating String</th>\n",
       "      <th>Cuisines</th>\n",
       "      <th>Cost For Two Persong Strings</th>\n",
       "      <th>Delivery Time</th>\n",
       "      <th>Min Delivery Time</th>\n",
       "      <th>Max Delivery Time</th>\n",
       "      <th>Address</th>\n",
       "      <th>Locality</th>\n",
       "      <th>Unserviceable</th>\n",
       "      <th>Veg</th>\n",
       "    </tr>\n",
       "  </thead>\n",
       "  <tbody>\n",
       "    <tr>\n",
       "      <th>0</th>\n",
       "      <td>F</td>\n",
       "      <td>37933</td>\n",
       "      <td>Faasos - Wraps &amp; Rolls</td>\n",
       "      <td>6fe9caf1-02a7-4e66-83bb-1b4ff296b683</td>\n",
       "      <td>Ahmedabad</td>\n",
       "      <td>Vastrapur</td>\n",
       "      <td>4.2</td>\n",
       "      <td>500+ ratings</td>\n",
       "      <td>['Combo' 'Snacks' 'Beverages' 'Desserts' 'Indi...</td>\n",
       "      <td>₹200 FOR TWO</td>\n",
       "      <td>44</td>\n",
       "      <td>44</td>\n",
       "      <td>44</td>\n",
       "      <td>SHOP NO 2 HOTEL SHAHI PALACE VASTRAPUR LAKE AH...</td>\n",
       "      <td>HOTEL SHAHI PALACE</td>\n",
       "      <td>False</td>\n",
       "      <td>False</td>\n",
       "    </tr>\n",
       "    <tr>\n",
       "      <th>1</th>\n",
       "      <td>F</td>\n",
       "      <td>81814</td>\n",
       "      <td>Burger King</td>\n",
       "      <td>10083576-d32d-4a0e-8a82-3236ef342a19</td>\n",
       "      <td>Ahmedabad</td>\n",
       "      <td>Ellisbridge</td>\n",
       "      <td>4.2</td>\n",
       "      <td>1000+ ratings</td>\n",
       "      <td>['American' 'Fast Food']</td>\n",
       "      <td>₹350 FOR TWO</td>\n",
       "      <td>33</td>\n",
       "      <td>33</td>\n",
       "      <td>33</td>\n",
       "      <td>SHOP # 5 GR FLR THIRD EYE 2PANCHAVATI CIRCLE O...</td>\n",
       "      <td>3rd Eye II Ellis Bridge CG Road</td>\n",
       "      <td>False</td>\n",
       "      <td>False</td>\n",
       "    </tr>\n",
       "    <tr>\n",
       "      <th>2</th>\n",
       "      <td>F</td>\n",
       "      <td>107046</td>\n",
       "      <td>Mahalaxmi Pav Bhaji</td>\n",
       "      <td>fbfe3bfa-03fd-4708-b913-06e2c9ee9639</td>\n",
       "      <td>Ahmedabad</td>\n",
       "      <td>Ellisbridge</td>\n",
       "      <td>4.3</td>\n",
       "      <td>500+ ratings</td>\n",
       "      <td>['North Indian']</td>\n",
       "      <td>₹200 FOR TWO</td>\n",
       "      <td>28</td>\n",
       "      <td>28</td>\n",
       "      <td>28</td>\n",
       "      <td>GF 9/10 Dev complexnear parimal charasta opp. ...</td>\n",
       "      <td>C G Road</td>\n",
       "      <td>False</td>\n",
       "      <td>True</td>\n",
       "    </tr>\n",
       "    <tr>\n",
       "      <th>3</th>\n",
       "      <td>F</td>\n",
       "      <td>328315</td>\n",
       "      <td>HIIT Meals</td>\n",
       "      <td>81ab4019-2445-4aef-aff2-04beccd641d9</td>\n",
       "      <td>Ahmedabad</td>\n",
       "      <td>Vishala</td>\n",
       "      <td>4.3</td>\n",
       "      <td>Too Few Ratings</td>\n",
       "      <td>['Fast Food' 'Combo' 'Snacks' 'North Indian' '...</td>\n",
       "      <td>₹150 FOR TWO</td>\n",
       "      <td>51</td>\n",
       "      <td>51</td>\n",
       "      <td>51</td>\n",
       "      <td>C11 Rajyash Rise Near Vishala Restaurant Vasna...</td>\n",
       "      <td>Vasna</td>\n",
       "      <td>False</td>\n",
       "      <td>False</td>\n",
       "    </tr>\n",
       "    <tr>\n",
       "      <th>4</th>\n",
       "      <td>F</td>\n",
       "      <td>108879</td>\n",
       "      <td>Jay Jalaram Parotha House</td>\n",
       "      <td>994e73e1-7c7c-4ad9-87e7-ecfecd4e36fa</td>\n",
       "      <td>Ahmedabad</td>\n",
       "      <td>Ellisbridge</td>\n",
       "      <td>3.9</td>\n",
       "      <td>100+ ratings</td>\n",
       "      <td>['North Indian']</td>\n",
       "      <td>₹250 FOR TWO</td>\n",
       "      <td>29</td>\n",
       "      <td>29</td>\n",
       "      <td>29</td>\n",
       "      <td>Capital Commercial Centre Near UCO Bank Ashram...</td>\n",
       "      <td>Ashram Road</td>\n",
       "      <td>False</td>\n",
       "      <td>True</td>\n",
       "    </tr>\n",
       "    <tr>\n",
       "      <th>...</th>\n",
       "      <td>...</td>\n",
       "      <td>...</td>\n",
       "      <td>...</td>\n",
       "      <td>...</td>\n",
       "      <td>...</td>\n",
       "      <td>...</td>\n",
       "      <td>...</td>\n",
       "      <td>...</td>\n",
       "      <td>...</td>\n",
       "      <td>...</td>\n",
       "      <td>...</td>\n",
       "      <td>...</td>\n",
       "      <td>...</td>\n",
       "      <td>...</td>\n",
       "      <td>...</td>\n",
       "      <td>...</td>\n",
       "      <td>...</td>\n",
       "    </tr>\n",
       "    <tr>\n",
       "      <th>8684</th>\n",
       "      <td>F</td>\n",
       "      <td>452149</td>\n",
       "      <td>RAJWADU KATHIYAWADI RESTAURANT</td>\n",
       "      <td>0db4b5d1-4db2-44cc-9cec-5042ccba778b</td>\n",
       "      <td>Surat</td>\n",
       "      <td>Adajan</td>\n",
       "      <td>4.3</td>\n",
       "      <td>Too Few Ratings</td>\n",
       "      <td>['Gujarati' 'Indian' 'Fast Food' 'Pizzas' 'Bev...</td>\n",
       "      <td>₹300 FOR TWO</td>\n",
       "      <td>77</td>\n",
       "      <td>77</td>\n",
       "      <td>77</td>\n",
       "      <td>R.S.NO.17 PAIKI G.F. OLPAD ROAD NR. RAJ MARBLE...</td>\n",
       "      <td>Adajan</td>\n",
       "      <td>False</td>\n",
       "      <td>True</td>\n",
       "    </tr>\n",
       "    <tr>\n",
       "      <th>8685</th>\n",
       "      <td>F</td>\n",
       "      <td>411690</td>\n",
       "      <td>Concord Restaurant</td>\n",
       "      <td>6f112782-e1c0-477f-8c5b-3a7011d2dd7d</td>\n",
       "      <td>Surat</td>\n",
       "      <td>Adajan</td>\n",
       "      <td>4.0</td>\n",
       "      <td>100+ ratings</td>\n",
       "      <td>['North Indian']</td>\n",
       "      <td>₹300 FOR TWO</td>\n",
       "      <td>72</td>\n",
       "      <td>72</td>\n",
       "      <td>72</td>\n",
       "      <td>160 TO 1802ND FLOORRAJ  HARMONYUGAT-BHESAN  RO...</td>\n",
       "      <td>Adajan</td>\n",
       "      <td>False</td>\n",
       "      <td>False</td>\n",
       "    </tr>\n",
       "    <tr>\n",
       "      <th>8686</th>\n",
       "      <td>F</td>\n",
       "      <td>409122</td>\n",
       "      <td>5 Hot Chillis Pizza &amp; Mocktail bar</td>\n",
       "      <td>f0be3849-3d95-4ac9-bcd0-14a8501d98d7</td>\n",
       "      <td>Surat</td>\n",
       "      <td>Sarthana</td>\n",
       "      <td>4.3</td>\n",
       "      <td>Too Few Ratings</td>\n",
       "      <td>['Italian' 'Fast Food']</td>\n",
       "      <td>₹200 FOR TWO</td>\n",
       "      <td>70</td>\n",
       "      <td>70</td>\n",
       "      <td>70</td>\n",
       "      <td>SHOP NO 234 ATLANTA MALL SUDAMA CHOWKOPP TULSI...</td>\n",
       "      <td>Sarthana</td>\n",
       "      <td>False</td>\n",
       "      <td>True</td>\n",
       "    </tr>\n",
       "    <tr>\n",
       "      <th>8687</th>\n",
       "      <td>F</td>\n",
       "      <td>438809</td>\n",
       "      <td>SHIVA GARDEN RESTAURANT</td>\n",
       "      <td>6cf08b59-b6e1-4ffe-be07-a895c8816d58</td>\n",
       "      <td>Surat</td>\n",
       "      <td>Sarthana</td>\n",
       "      <td>4.3</td>\n",
       "      <td>Too Few Ratings</td>\n",
       "      <td>['Indian']</td>\n",
       "      <td>₹200 FOR TWO</td>\n",
       "      <td>66</td>\n",
       "      <td>66</td>\n",
       "      <td>66</td>\n",
       "      <td>Shiva Garden Restaurant Lajamni Chowk Shanti N...</td>\n",
       "      <td>Sarthana</td>\n",
       "      <td>False</td>\n",
       "      <td>True</td>\n",
       "    </tr>\n",
       "    <tr>\n",
       "      <th>8688</th>\n",
       "      <td>F</td>\n",
       "      <td>425118</td>\n",
       "      <td>Waterbomb pani-puri shop</td>\n",
       "      <td>12fde98a-36df-4bd8-95a8-7a05e1202025</td>\n",
       "      <td>Surat</td>\n",
       "      <td>Sarthana</td>\n",
       "      <td>4.3</td>\n",
       "      <td>Too Few Ratings</td>\n",
       "      <td>['Snacks']</td>\n",
       "      <td>₹155 FOR TWO</td>\n",
       "      <td>67</td>\n",
       "      <td>67</td>\n",
       "      <td>67</td>\n",
       "      <td>12 Ambika pinnacle Lajamni Chowk near savji ko...</td>\n",
       "      <td>Sarthana</td>\n",
       "      <td>False</td>\n",
       "      <td>True</td>\n",
       "    </tr>\n",
       "  </tbody>\n",
       "</table>\n",
       "<p>8346 rows × 17 columns</p>\n",
       "</div>"
      ],
      "text/plain": [
       "     Type      ID                                Name  \\\n",
       "0       F   37933              Faasos - Wraps & Rolls   \n",
       "1       F   81814                         Burger King   \n",
       "2       F  107046                 Mahalaxmi Pav Bhaji   \n",
       "3       F  328315                          HIIT Meals   \n",
       "4       F  108879           Jay Jalaram Parotha House   \n",
       "...   ...     ...                                 ...   \n",
       "8684    F  452149      RAJWADU KATHIYAWADI RESTAURANT   \n",
       "8685    F  411690                  Concord Restaurant   \n",
       "8686    F  409122  5 Hot Chillis Pizza & Mocktail bar   \n",
       "8687    F  438809             SHIVA GARDEN RESTAURANT   \n",
       "8688    F  425118            Waterbomb pani-puri shop   \n",
       "\n",
       "                                      UUID       City         Area  \\\n",
       "0     6fe9caf1-02a7-4e66-83bb-1b4ff296b683  Ahmedabad    Vastrapur   \n",
       "1     10083576-d32d-4a0e-8a82-3236ef342a19  Ahmedabad  Ellisbridge   \n",
       "2     fbfe3bfa-03fd-4708-b913-06e2c9ee9639  Ahmedabad  Ellisbridge   \n",
       "3     81ab4019-2445-4aef-aff2-04beccd641d9  Ahmedabad      Vishala   \n",
       "4     994e73e1-7c7c-4ad9-87e7-ecfecd4e36fa  Ahmedabad  Ellisbridge   \n",
       "...                                    ...        ...          ...   \n",
       "8684  0db4b5d1-4db2-44cc-9cec-5042ccba778b      Surat       Adajan   \n",
       "8685  6f112782-e1c0-477f-8c5b-3a7011d2dd7d      Surat       Adajan   \n",
       "8686  f0be3849-3d95-4ac9-bcd0-14a8501d98d7      Surat     Sarthana   \n",
       "8687  6cf08b59-b6e1-4ffe-be07-a895c8816d58      Surat     Sarthana   \n",
       "8688  12fde98a-36df-4bd8-95a8-7a05e1202025      Surat     Sarthana   \n",
       "\n",
       "      Avg Rating Total Rating String  \\\n",
       "0            4.2        500+ ratings   \n",
       "1            4.2       1000+ ratings   \n",
       "2            4.3        500+ ratings   \n",
       "3            4.3     Too Few Ratings   \n",
       "4            3.9        100+ ratings   \n",
       "...          ...                 ...   \n",
       "8684         4.3     Too Few Ratings   \n",
       "8685         4.0        100+ ratings   \n",
       "8686         4.3     Too Few Ratings   \n",
       "8687         4.3     Too Few Ratings   \n",
       "8688         4.3     Too Few Ratings   \n",
       "\n",
       "                                               Cuisines  \\\n",
       "0     ['Combo' 'Snacks' 'Beverages' 'Desserts' 'Indi...   \n",
       "1                              ['American' 'Fast Food']   \n",
       "2                                      ['North Indian']   \n",
       "3     ['Fast Food' 'Combo' 'Snacks' 'North Indian' '...   \n",
       "4                                      ['North Indian']   \n",
       "...                                                 ...   \n",
       "8684  ['Gujarati' 'Indian' 'Fast Food' 'Pizzas' 'Bev...   \n",
       "8685                                   ['North Indian']   \n",
       "8686                            ['Italian' 'Fast Food']   \n",
       "8687                                         ['Indian']   \n",
       "8688                                         ['Snacks']   \n",
       "\n",
       "     Cost For Two Persong Strings   Delivery Time  Min Delivery Time  \\\n",
       "0                    ₹200 FOR TWO              44                 44   \n",
       "1                    ₹350 FOR TWO              33                 33   \n",
       "2                    ₹200 FOR TWO              28                 28   \n",
       "3                    ₹150 FOR TWO              51                 51   \n",
       "4                    ₹250 FOR TWO              29                 29   \n",
       "...                            ...            ...                ...   \n",
       "8684                 ₹300 FOR TWO              77                 77   \n",
       "8685                 ₹300 FOR TWO              72                 72   \n",
       "8686                 ₹200 FOR TWO              70                 70   \n",
       "8687                 ₹200 FOR TWO              66                 66   \n",
       "8688                 ₹155 FOR TWO              67                 67   \n",
       "\n",
       "      Max Delivery Time                                            Address  \\\n",
       "0                    44  SHOP NO 2 HOTEL SHAHI PALACE VASTRAPUR LAKE AH...   \n",
       "1                    33  SHOP # 5 GR FLR THIRD EYE 2PANCHAVATI CIRCLE O...   \n",
       "2                    28  GF 9/10 Dev complexnear parimal charasta opp. ...   \n",
       "3                    51  C11 Rajyash Rise Near Vishala Restaurant Vasna...   \n",
       "4                    29  Capital Commercial Centre Near UCO Bank Ashram...   \n",
       "...                 ...                                                ...   \n",
       "8684                 77  R.S.NO.17 PAIKI G.F. OLPAD ROAD NR. RAJ MARBLE...   \n",
       "8685                 72  160 TO 1802ND FLOORRAJ  HARMONYUGAT-BHESAN  RO...   \n",
       "8686                 70  SHOP NO 234 ATLANTA MALL SUDAMA CHOWKOPP TULSI...   \n",
       "8687                 66  Shiva Garden Restaurant Lajamni Chowk Shanti N...   \n",
       "8688                 67  12 Ambika pinnacle Lajamni Chowk near savji ko...   \n",
       "\n",
       "                             Locality Unserviceable    Veg  \n",
       "0                  HOTEL SHAHI PALACE         False  False  \n",
       "1     3rd Eye II Ellis Bridge CG Road         False  False  \n",
       "2                            C G Road         False   True  \n",
       "3                               Vasna         False  False  \n",
       "4                         Ashram Road         False   True  \n",
       "...                               ...           ...    ...  \n",
       "8684                           Adajan         False   True  \n",
       "8685                           Adajan         False  False  \n",
       "8686                         Sarthana         False   True  \n",
       "8687                         Sarthana         False   True  \n",
       "8688                         Sarthana         False   True  \n",
       "\n",
       "[8346 rows x 17 columns]"
      ]
     },
     "execution_count": 168,
     "metadata": {},
     "output_type": "execute_result"
    }
   ],
   "source": [
    "sd1[sd1['Avg Rating']>3.5]"
   ]
  },
  {
   "cell_type": "code",
   "execution_count": null,
   "id": "8a7bc146",
   "metadata": {},
   "outputs": [],
   "source": [
    "sd1[sd1[]]"
   ]
  }
 ],
 "metadata": {
  "kernelspec": {
   "display_name": "Python 3 (ipykernel)",
   "language": "python",
   "name": "python3"
  },
  "language_info": {
   "codemirror_mode": {
    "name": "ipython",
    "version": 3
   },
   "file_extension": ".py",
   "mimetype": "text/x-python",
   "name": "python",
   "nbconvert_exporter": "python",
   "pygments_lexer": "ipython3",
   "version": "3.9.12"
  }
 },
 "nbformat": 4,
 "nbformat_minor": 5
}
